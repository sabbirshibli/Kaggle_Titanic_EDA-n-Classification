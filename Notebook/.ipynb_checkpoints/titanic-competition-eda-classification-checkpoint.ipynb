{
 "cells": [
  {
   "cell_type": "code",
   "execution_count": 6,
   "metadata": {
    "_cell_guid": "b1076dfc-b9ad-4769-8c92-a6c4dae69d19",
    "_uuid": "8f2839f25d086af736a60e9eeb907d3b93b6e0e5",
    "execution": {
     "iopub.execute_input": "2023-01-27T14:40:19.907472Z",
     "iopub.status.busy": "2023-01-27T14:40:19.907083Z",
     "iopub.status.idle": "2023-01-27T14:40:19.915685Z",
     "shell.execute_reply": "2023-01-27T14:40:19.914436Z",
     "shell.execute_reply.started": "2023-01-27T14:40:19.907440Z"
    }
   },
   "outputs": [],
   "source": [
    "#importing necessary libraries\n",
    "import os\n",
    "import numpy as np\n",
    "import pandas as pd\n",
    "import pandas_profiling as pp\n",
    "import matplotlib.pyplot as plt\n",
    "import seaborn as sns\n",
    "import missingno as msno\n",
    "%matplotlib inline"
   ]
  },
  {
   "cell_type": "markdown",
   "metadata": {},
   "source": [
    "# Reading the Datasets"
   ]
  },
  {
   "cell_type": "code",
   "execution_count": 7,
   "metadata": {
    "execution": {
     "iopub.execute_input": "2023-01-27T14:40:19.918421Z",
     "iopub.status.busy": "2023-01-27T14:40:19.917914Z",
     "iopub.status.idle": "2023-01-27T14:40:19.943291Z",
     "shell.execute_reply": "2023-01-27T14:40:19.942340Z",
     "shell.execute_reply.started": "2023-01-27T14:40:19.918386Z"
    }
   },
   "outputs": [],
   "source": [
    "train_df=pd.read_csv('E:/Kaggle/Titanic-Machine_Learning_from_Disaster/Datasets/train.csv')\n",
    "test_df=pd.read_csv('E:/Kaggle/Titanic-Machine_Learning_from_Disaster/Datasets/test.csv')\n",
    "gender_df=pd.read_csv('E:/Kaggle/Titanic-Machine_Learning_from_Disaster/Datasets/gender_submission.csv')\n",
    "test2 = test_df.copy()  # Creating a copy of test dataset for reserving the original data"
   ]
  },
  {
   "cell_type": "markdown",
   "metadata": {},
   "source": [
    "# Datasets intuitions"
   ]
  },
  {
   "cell_type": "code",
   "execution_count": 8,
   "metadata": {
    "execution": {
     "iopub.execute_input": "2023-01-27T14:40:19.945773Z",
     "iopub.status.busy": "2023-01-27T14:40:19.944821Z",
     "iopub.status.idle": "2023-01-27T14:40:19.963401Z",
     "shell.execute_reply": "2023-01-27T14:40:19.962330Z",
     "shell.execute_reply.started": "2023-01-27T14:40:19.945709Z"
    }
   },
   "outputs": [
    {
     "data": {
      "text/html": [
       "<div>\n",
       "<style scoped>\n",
       "    .dataframe tbody tr th:only-of-type {\n",
       "        vertical-align: middle;\n",
       "    }\n",
       "\n",
       "    .dataframe tbody tr th {\n",
       "        vertical-align: top;\n",
       "    }\n",
       "\n",
       "    .dataframe thead th {\n",
       "        text-align: right;\n",
       "    }\n",
       "</style>\n",
       "<table border=\"1\" class=\"dataframe\">\n",
       "  <thead>\n",
       "    <tr style=\"text-align: right;\">\n",
       "      <th></th>\n",
       "      <th>PassengerId</th>\n",
       "      <th>Survived</th>\n",
       "      <th>Pclass</th>\n",
       "      <th>Name</th>\n",
       "      <th>Sex</th>\n",
       "      <th>Age</th>\n",
       "      <th>SibSp</th>\n",
       "      <th>Parch</th>\n",
       "      <th>Ticket</th>\n",
       "      <th>Fare</th>\n",
       "      <th>Cabin</th>\n",
       "      <th>Embarked</th>\n",
       "    </tr>\n",
       "  </thead>\n",
       "  <tbody>\n",
       "    <tr>\n",
       "      <th>0</th>\n",
       "      <td>1</td>\n",
       "      <td>0</td>\n",
       "      <td>3</td>\n",
       "      <td>Braund, Mr. Owen Harris</td>\n",
       "      <td>male</td>\n",
       "      <td>22.0</td>\n",
       "      <td>1</td>\n",
       "      <td>0</td>\n",
       "      <td>A/5 21171</td>\n",
       "      <td>7.2500</td>\n",
       "      <td>NaN</td>\n",
       "      <td>S</td>\n",
       "    </tr>\n",
       "    <tr>\n",
       "      <th>1</th>\n",
       "      <td>2</td>\n",
       "      <td>1</td>\n",
       "      <td>1</td>\n",
       "      <td>Cumings, Mrs. John Bradley (Florence Briggs Th...</td>\n",
       "      <td>female</td>\n",
       "      <td>38.0</td>\n",
       "      <td>1</td>\n",
       "      <td>0</td>\n",
       "      <td>PC 17599</td>\n",
       "      <td>71.2833</td>\n",
       "      <td>C85</td>\n",
       "      <td>C</td>\n",
       "    </tr>\n",
       "    <tr>\n",
       "      <th>2</th>\n",
       "      <td>3</td>\n",
       "      <td>1</td>\n",
       "      <td>3</td>\n",
       "      <td>Heikkinen, Miss. Laina</td>\n",
       "      <td>female</td>\n",
       "      <td>26.0</td>\n",
       "      <td>0</td>\n",
       "      <td>0</td>\n",
       "      <td>STON/O2. 3101282</td>\n",
       "      <td>7.9250</td>\n",
       "      <td>NaN</td>\n",
       "      <td>S</td>\n",
       "    </tr>\n",
       "    <tr>\n",
       "      <th>3</th>\n",
       "      <td>4</td>\n",
       "      <td>1</td>\n",
       "      <td>1</td>\n",
       "      <td>Futrelle, Mrs. Jacques Heath (Lily May Peel)</td>\n",
       "      <td>female</td>\n",
       "      <td>35.0</td>\n",
       "      <td>1</td>\n",
       "      <td>0</td>\n",
       "      <td>113803</td>\n",
       "      <td>53.1000</td>\n",
       "      <td>C123</td>\n",
       "      <td>S</td>\n",
       "    </tr>\n",
       "    <tr>\n",
       "      <th>4</th>\n",
       "      <td>5</td>\n",
       "      <td>0</td>\n",
       "      <td>3</td>\n",
       "      <td>Allen, Mr. William Henry</td>\n",
       "      <td>male</td>\n",
       "      <td>35.0</td>\n",
       "      <td>0</td>\n",
       "      <td>0</td>\n",
       "      <td>373450</td>\n",
       "      <td>8.0500</td>\n",
       "      <td>NaN</td>\n",
       "      <td>S</td>\n",
       "    </tr>\n",
       "  </tbody>\n",
       "</table>\n",
       "</div>"
      ],
      "text/plain": [
       "   PassengerId  Survived  Pclass  \\\n",
       "0            1         0       3   \n",
       "1            2         1       1   \n",
       "2            3         1       3   \n",
       "3            4         1       1   \n",
       "4            5         0       3   \n",
       "\n",
       "                                                Name     Sex   Age  SibSp  \\\n",
       "0                            Braund, Mr. Owen Harris    male  22.0      1   \n",
       "1  Cumings, Mrs. John Bradley (Florence Briggs Th...  female  38.0      1   \n",
       "2                             Heikkinen, Miss. Laina  female  26.0      0   \n",
       "3       Futrelle, Mrs. Jacques Heath (Lily May Peel)  female  35.0      1   \n",
       "4                           Allen, Mr. William Henry    male  35.0      0   \n",
       "\n",
       "   Parch            Ticket     Fare Cabin Embarked  \n",
       "0      0         A/5 21171   7.2500   NaN        S  \n",
       "1      0          PC 17599  71.2833   C85        C  \n",
       "2      0  STON/O2. 3101282   7.9250   NaN        S  \n",
       "3      0            113803  53.1000  C123        S  \n",
       "4      0            373450   8.0500   NaN        S  "
      ]
     },
     "execution_count": 8,
     "metadata": {},
     "output_type": "execute_result"
    }
   ],
   "source": [
    "train_df.head()"
   ]
  },
  {
   "cell_type": "code",
   "execution_count": 9,
   "metadata": {
    "execution": {
     "iopub.execute_input": "2023-01-27T14:40:19.965188Z",
     "iopub.status.busy": "2023-01-27T14:40:19.964792Z",
     "iopub.status.idle": "2023-01-27T14:40:19.981561Z",
     "shell.execute_reply": "2023-01-27T14:40:19.980347Z",
     "shell.execute_reply.started": "2023-01-27T14:40:19.965154Z"
    }
   },
   "outputs": [
    {
     "data": {
      "text/html": [
       "<div>\n",
       "<style scoped>\n",
       "    .dataframe tbody tr th:only-of-type {\n",
       "        vertical-align: middle;\n",
       "    }\n",
       "\n",
       "    .dataframe tbody tr th {\n",
       "        vertical-align: top;\n",
       "    }\n",
       "\n",
       "    .dataframe thead th {\n",
       "        text-align: right;\n",
       "    }\n",
       "</style>\n",
       "<table border=\"1\" class=\"dataframe\">\n",
       "  <thead>\n",
       "    <tr style=\"text-align: right;\">\n",
       "      <th></th>\n",
       "      <th>PassengerId</th>\n",
       "      <th>Pclass</th>\n",
       "      <th>Name</th>\n",
       "      <th>Sex</th>\n",
       "      <th>Age</th>\n",
       "      <th>SibSp</th>\n",
       "      <th>Parch</th>\n",
       "      <th>Ticket</th>\n",
       "      <th>Fare</th>\n",
       "      <th>Cabin</th>\n",
       "      <th>Embarked</th>\n",
       "    </tr>\n",
       "  </thead>\n",
       "  <tbody>\n",
       "    <tr>\n",
       "      <th>0</th>\n",
       "      <td>892</td>\n",
       "      <td>3</td>\n",
       "      <td>Kelly, Mr. James</td>\n",
       "      <td>male</td>\n",
       "      <td>34.5</td>\n",
       "      <td>0</td>\n",
       "      <td>0</td>\n",
       "      <td>330911</td>\n",
       "      <td>7.8292</td>\n",
       "      <td>NaN</td>\n",
       "      <td>Q</td>\n",
       "    </tr>\n",
       "    <tr>\n",
       "      <th>1</th>\n",
       "      <td>893</td>\n",
       "      <td>3</td>\n",
       "      <td>Wilkes, Mrs. James (Ellen Needs)</td>\n",
       "      <td>female</td>\n",
       "      <td>47.0</td>\n",
       "      <td>1</td>\n",
       "      <td>0</td>\n",
       "      <td>363272</td>\n",
       "      <td>7.0000</td>\n",
       "      <td>NaN</td>\n",
       "      <td>S</td>\n",
       "    </tr>\n",
       "    <tr>\n",
       "      <th>2</th>\n",
       "      <td>894</td>\n",
       "      <td>2</td>\n",
       "      <td>Myles, Mr. Thomas Francis</td>\n",
       "      <td>male</td>\n",
       "      <td>62.0</td>\n",
       "      <td>0</td>\n",
       "      <td>0</td>\n",
       "      <td>240276</td>\n",
       "      <td>9.6875</td>\n",
       "      <td>NaN</td>\n",
       "      <td>Q</td>\n",
       "    </tr>\n",
       "    <tr>\n",
       "      <th>3</th>\n",
       "      <td>895</td>\n",
       "      <td>3</td>\n",
       "      <td>Wirz, Mr. Albert</td>\n",
       "      <td>male</td>\n",
       "      <td>27.0</td>\n",
       "      <td>0</td>\n",
       "      <td>0</td>\n",
       "      <td>315154</td>\n",
       "      <td>8.6625</td>\n",
       "      <td>NaN</td>\n",
       "      <td>S</td>\n",
       "    </tr>\n",
       "    <tr>\n",
       "      <th>4</th>\n",
       "      <td>896</td>\n",
       "      <td>3</td>\n",
       "      <td>Hirvonen, Mrs. Alexander (Helga E Lindqvist)</td>\n",
       "      <td>female</td>\n",
       "      <td>22.0</td>\n",
       "      <td>1</td>\n",
       "      <td>1</td>\n",
       "      <td>3101298</td>\n",
       "      <td>12.2875</td>\n",
       "      <td>NaN</td>\n",
       "      <td>S</td>\n",
       "    </tr>\n",
       "  </tbody>\n",
       "</table>\n",
       "</div>"
      ],
      "text/plain": [
       "   PassengerId  Pclass                                          Name     Sex  \\\n",
       "0          892       3                              Kelly, Mr. James    male   \n",
       "1          893       3              Wilkes, Mrs. James (Ellen Needs)  female   \n",
       "2          894       2                     Myles, Mr. Thomas Francis    male   \n",
       "3          895       3                              Wirz, Mr. Albert    male   \n",
       "4          896       3  Hirvonen, Mrs. Alexander (Helga E Lindqvist)  female   \n",
       "\n",
       "    Age  SibSp  Parch   Ticket     Fare Cabin Embarked  \n",
       "0  34.5      0      0   330911   7.8292   NaN        Q  \n",
       "1  47.0      1      0   363272   7.0000   NaN        S  \n",
       "2  62.0      0      0   240276   9.6875   NaN        Q  \n",
       "3  27.0      0      0   315154   8.6625   NaN        S  \n",
       "4  22.0      1      1  3101298  12.2875   NaN        S  "
      ]
     },
     "execution_count": 9,
     "metadata": {},
     "output_type": "execute_result"
    }
   ],
   "source": [
    "test_df.head()"
   ]
  },
  {
   "cell_type": "code",
   "execution_count": 10,
   "metadata": {
    "execution": {
     "iopub.execute_input": "2023-01-27T14:40:19.984277Z",
     "iopub.status.busy": "2023-01-27T14:40:19.983946Z",
     "iopub.status.idle": "2023-01-27T14:40:19.999199Z",
     "shell.execute_reply": "2023-01-27T14:40:19.998048Z",
     "shell.execute_reply.started": "2023-01-27T14:40:19.984248Z"
    }
   },
   "outputs": [
    {
     "name": "stdout",
     "output_type": "stream",
     "text": [
      "<class 'pandas.core.frame.DataFrame'>\n",
      "RangeIndex: 891 entries, 0 to 890\n",
      "Data columns (total 12 columns):\n",
      " #   Column       Non-Null Count  Dtype  \n",
      "---  ------       --------------  -----  \n",
      " 0   PassengerId  891 non-null    int64  \n",
      " 1   Survived     891 non-null    int64  \n",
      " 2   Pclass       891 non-null    int64  \n",
      " 3   Name         891 non-null    object \n",
      " 4   Sex          891 non-null    object \n",
      " 5   Age          714 non-null    float64\n",
      " 6   SibSp        891 non-null    int64  \n",
      " 7   Parch        891 non-null    int64  \n",
      " 8   Ticket       891 non-null    object \n",
      " 9   Fare         891 non-null    float64\n",
      " 10  Cabin        204 non-null    object \n",
      " 11  Embarked     889 non-null    object \n",
      "dtypes: float64(2), int64(5), object(5)\n",
      "memory usage: 83.7+ KB\n"
     ]
    }
   ],
   "source": [
    "train_df.info()"
   ]
  },
  {
   "cell_type": "code",
   "execution_count": 11,
   "metadata": {
    "execution": {
     "iopub.execute_input": "2023-01-27T14:40:20.002288Z",
     "iopub.status.busy": "2023-01-27T14:40:20.001087Z",
     "iopub.status.idle": "2023-01-27T14:40:20.019098Z",
     "shell.execute_reply": "2023-01-27T14:40:20.018082Z",
     "shell.execute_reply.started": "2023-01-27T14:40:20.002249Z"
    }
   },
   "outputs": [
    {
     "name": "stdout",
     "output_type": "stream",
     "text": [
      "<class 'pandas.core.frame.DataFrame'>\n",
      "RangeIndex: 418 entries, 0 to 417\n",
      "Data columns (total 11 columns):\n",
      " #   Column       Non-Null Count  Dtype  \n",
      "---  ------       --------------  -----  \n",
      " 0   PassengerId  418 non-null    int64  \n",
      " 1   Pclass       418 non-null    int64  \n",
      " 2   Name         418 non-null    object \n",
      " 3   Sex          418 non-null    object \n",
      " 4   Age          332 non-null    float64\n",
      " 5   SibSp        418 non-null    int64  \n",
      " 6   Parch        418 non-null    int64  \n",
      " 7   Ticket       418 non-null    object \n",
      " 8   Fare         417 non-null    float64\n",
      " 9   Cabin        91 non-null     object \n",
      " 10  Embarked     418 non-null    object \n",
      "dtypes: float64(2), int64(4), object(5)\n",
      "memory usage: 36.0+ KB\n"
     ]
    }
   ],
   "source": [
    "test_df.info()"
   ]
  },
  {
   "cell_type": "code",
   "execution_count": 12,
   "metadata": {
    "execution": {
     "iopub.execute_input": "2023-01-27T14:40:20.020789Z",
     "iopub.status.busy": "2023-01-27T14:40:20.020439Z",
     "iopub.status.idle": "2023-01-27T14:40:20.045691Z",
     "shell.execute_reply": "2023-01-27T14:40:20.044586Z",
     "shell.execute_reply.started": "2023-01-27T14:40:20.020747Z"
    }
   },
   "outputs": [
    {
     "data": {
      "text/html": [
       "<div>\n",
       "<style scoped>\n",
       "    .dataframe tbody tr th:only-of-type {\n",
       "        vertical-align: middle;\n",
       "    }\n",
       "\n",
       "    .dataframe tbody tr th {\n",
       "        vertical-align: top;\n",
       "    }\n",
       "\n",
       "    .dataframe thead th {\n",
       "        text-align: right;\n",
       "    }\n",
       "</style>\n",
       "<table border=\"1\" class=\"dataframe\">\n",
       "  <thead>\n",
       "    <tr style=\"text-align: right;\">\n",
       "      <th></th>\n",
       "      <th>PassengerId</th>\n",
       "      <th>Survived</th>\n",
       "      <th>Pclass</th>\n",
       "      <th>Name</th>\n",
       "      <th>Sex</th>\n",
       "      <th>Age</th>\n",
       "      <th>SibSp</th>\n",
       "      <th>Parch</th>\n",
       "      <th>Ticket</th>\n",
       "      <th>Fare</th>\n",
       "      <th>Cabin</th>\n",
       "      <th>Embarked</th>\n",
       "    </tr>\n",
       "  </thead>\n",
       "  <tbody>\n",
       "    <tr>\n",
       "      <th>0</th>\n",
       "      <td>False</td>\n",
       "      <td>False</td>\n",
       "      <td>False</td>\n",
       "      <td>False</td>\n",
       "      <td>False</td>\n",
       "      <td>False</td>\n",
       "      <td>False</td>\n",
       "      <td>False</td>\n",
       "      <td>False</td>\n",
       "      <td>False</td>\n",
       "      <td>True</td>\n",
       "      <td>False</td>\n",
       "    </tr>\n",
       "    <tr>\n",
       "      <th>1</th>\n",
       "      <td>False</td>\n",
       "      <td>False</td>\n",
       "      <td>False</td>\n",
       "      <td>False</td>\n",
       "      <td>False</td>\n",
       "      <td>False</td>\n",
       "      <td>False</td>\n",
       "      <td>False</td>\n",
       "      <td>False</td>\n",
       "      <td>False</td>\n",
       "      <td>False</td>\n",
       "      <td>False</td>\n",
       "    </tr>\n",
       "    <tr>\n",
       "      <th>2</th>\n",
       "      <td>False</td>\n",
       "      <td>False</td>\n",
       "      <td>False</td>\n",
       "      <td>False</td>\n",
       "      <td>False</td>\n",
       "      <td>False</td>\n",
       "      <td>False</td>\n",
       "      <td>False</td>\n",
       "      <td>False</td>\n",
       "      <td>False</td>\n",
       "      <td>True</td>\n",
       "      <td>False</td>\n",
       "    </tr>\n",
       "    <tr>\n",
       "      <th>3</th>\n",
       "      <td>False</td>\n",
       "      <td>False</td>\n",
       "      <td>False</td>\n",
       "      <td>False</td>\n",
       "      <td>False</td>\n",
       "      <td>False</td>\n",
       "      <td>False</td>\n",
       "      <td>False</td>\n",
       "      <td>False</td>\n",
       "      <td>False</td>\n",
       "      <td>False</td>\n",
       "      <td>False</td>\n",
       "    </tr>\n",
       "    <tr>\n",
       "      <th>4</th>\n",
       "      <td>False</td>\n",
       "      <td>False</td>\n",
       "      <td>False</td>\n",
       "      <td>False</td>\n",
       "      <td>False</td>\n",
       "      <td>False</td>\n",
       "      <td>False</td>\n",
       "      <td>False</td>\n",
       "      <td>False</td>\n",
       "      <td>False</td>\n",
       "      <td>True</td>\n",
       "      <td>False</td>\n",
       "    </tr>\n",
       "    <tr>\n",
       "      <th>...</th>\n",
       "      <td>...</td>\n",
       "      <td>...</td>\n",
       "      <td>...</td>\n",
       "      <td>...</td>\n",
       "      <td>...</td>\n",
       "      <td>...</td>\n",
       "      <td>...</td>\n",
       "      <td>...</td>\n",
       "      <td>...</td>\n",
       "      <td>...</td>\n",
       "      <td>...</td>\n",
       "      <td>...</td>\n",
       "    </tr>\n",
       "    <tr>\n",
       "      <th>886</th>\n",
       "      <td>False</td>\n",
       "      <td>False</td>\n",
       "      <td>False</td>\n",
       "      <td>False</td>\n",
       "      <td>False</td>\n",
       "      <td>False</td>\n",
       "      <td>False</td>\n",
       "      <td>False</td>\n",
       "      <td>False</td>\n",
       "      <td>False</td>\n",
       "      <td>True</td>\n",
       "      <td>False</td>\n",
       "    </tr>\n",
       "    <tr>\n",
       "      <th>887</th>\n",
       "      <td>False</td>\n",
       "      <td>False</td>\n",
       "      <td>False</td>\n",
       "      <td>False</td>\n",
       "      <td>False</td>\n",
       "      <td>False</td>\n",
       "      <td>False</td>\n",
       "      <td>False</td>\n",
       "      <td>False</td>\n",
       "      <td>False</td>\n",
       "      <td>False</td>\n",
       "      <td>False</td>\n",
       "    </tr>\n",
       "    <tr>\n",
       "      <th>888</th>\n",
       "      <td>False</td>\n",
       "      <td>False</td>\n",
       "      <td>False</td>\n",
       "      <td>False</td>\n",
       "      <td>False</td>\n",
       "      <td>True</td>\n",
       "      <td>False</td>\n",
       "      <td>False</td>\n",
       "      <td>False</td>\n",
       "      <td>False</td>\n",
       "      <td>True</td>\n",
       "      <td>False</td>\n",
       "    </tr>\n",
       "    <tr>\n",
       "      <th>889</th>\n",
       "      <td>False</td>\n",
       "      <td>False</td>\n",
       "      <td>False</td>\n",
       "      <td>False</td>\n",
       "      <td>False</td>\n",
       "      <td>False</td>\n",
       "      <td>False</td>\n",
       "      <td>False</td>\n",
       "      <td>False</td>\n",
       "      <td>False</td>\n",
       "      <td>False</td>\n",
       "      <td>False</td>\n",
       "    </tr>\n",
       "    <tr>\n",
       "      <th>890</th>\n",
       "      <td>False</td>\n",
       "      <td>False</td>\n",
       "      <td>False</td>\n",
       "      <td>False</td>\n",
       "      <td>False</td>\n",
       "      <td>False</td>\n",
       "      <td>False</td>\n",
       "      <td>False</td>\n",
       "      <td>False</td>\n",
       "      <td>False</td>\n",
       "      <td>True</td>\n",
       "      <td>False</td>\n",
       "    </tr>\n",
       "  </tbody>\n",
       "</table>\n",
       "<p>891 rows × 12 columns</p>\n",
       "</div>"
      ],
      "text/plain": [
       "     PassengerId  Survived  Pclass   Name    Sex    Age  SibSp  Parch  Ticket  \\\n",
       "0          False     False   False  False  False  False  False  False   False   \n",
       "1          False     False   False  False  False  False  False  False   False   \n",
       "2          False     False   False  False  False  False  False  False   False   \n",
       "3          False     False   False  False  False  False  False  False   False   \n",
       "4          False     False   False  False  False  False  False  False   False   \n",
       "..           ...       ...     ...    ...    ...    ...    ...    ...     ...   \n",
       "886        False     False   False  False  False  False  False  False   False   \n",
       "887        False     False   False  False  False  False  False  False   False   \n",
       "888        False     False   False  False  False   True  False  False   False   \n",
       "889        False     False   False  False  False  False  False  False   False   \n",
       "890        False     False   False  False  False  False  False  False   False   \n",
       "\n",
       "      Fare  Cabin  Embarked  \n",
       "0    False   True     False  \n",
       "1    False  False     False  \n",
       "2    False   True     False  \n",
       "3    False  False     False  \n",
       "4    False   True     False  \n",
       "..     ...    ...       ...  \n",
       "886  False   True     False  \n",
       "887  False  False     False  \n",
       "888  False   True     False  \n",
       "889  False  False     False  \n",
       "890  False   True     False  \n",
       "\n",
       "[891 rows x 12 columns]"
      ]
     },
     "execution_count": 12,
     "metadata": {},
     "output_type": "execute_result"
    }
   ],
   "source": [
    "# Checking the available null values\n",
    "train_df.isnull()"
   ]
  },
  {
   "cell_type": "code",
   "execution_count": 13,
   "metadata": {
    "execution": {
     "iopub.execute_input": "2023-01-27T14:40:20.048177Z",
     "iopub.status.busy": "2023-01-27T14:40:20.047711Z",
     "iopub.status.idle": "2023-01-27T14:40:20.057314Z",
     "shell.execute_reply": "2023-01-27T14:40:20.056097Z",
     "shell.execute_reply.started": "2023-01-27T14:40:20.048102Z"
    }
   },
   "outputs": [
    {
     "name": "stdout",
     "output_type": "stream",
     "text": [
      "Missing values:  PassengerId      0\n",
      "Survived         0\n",
      "Pclass           0\n",
      "Name             0\n",
      "Sex              0\n",
      "Age            177\n",
      "SibSp            0\n",
      "Parch            0\n",
      "Ticket           0\n",
      "Fare             0\n",
      "Cabin          687\n",
      "Embarked         2\n",
      "dtype: int64\n"
     ]
    }
   ],
   "source": [
    "print('Missing values: ', train_df.isna().sum())"
   ]
  },
  {
   "cell_type": "code",
   "execution_count": 14,
   "metadata": {
    "execution": {
     "iopub.execute_input": "2023-01-27T14:40:20.059314Z",
     "iopub.status.busy": "2023-01-27T14:40:20.058825Z",
     "iopub.status.idle": "2023-01-27T14:40:20.072678Z",
     "shell.execute_reply": "2023-01-27T14:40:20.071397Z",
     "shell.execute_reply.started": "2023-01-27T14:40:20.059271Z"
    }
   },
   "outputs": [
    {
     "name": "stdout",
     "output_type": "stream",
     "text": [
      "Missing values:  866\n"
     ]
    }
   ],
   "source": [
    "print('Missing values: ', train_df.isna().sum().sum())"
   ]
  },
  {
   "cell_type": "markdown",
   "metadata": {},
   "source": [
    "# Visualization of training dataset for various intuitions"
   ]
  },
  {
   "cell_type": "code",
   "execution_count": 15,
   "metadata": {
    "execution": {
     "iopub.execute_input": "2023-01-27T14:40:20.075201Z",
     "iopub.status.busy": "2023-01-27T14:40:20.074594Z",
     "iopub.status.idle": "2023-01-27T14:40:20.333322Z",
     "shell.execute_reply": "2023-01-27T14:40:20.332220Z",
     "shell.execute_reply.started": "2023-01-27T14:40:20.075156Z"
    }
   },
   "outputs": [
    {
     "data": {
      "text/plain": [
       "<AxesSubplot: >"
      ]
     },
     "execution_count": 15,
     "metadata": {},
     "output_type": "execute_result"
    },
    {
     "data": {
      "image/png": "[encoded data removed]",
      "text/plain": [
       "<Figure size 640x480 with 1 Axes>"
      ]
     },
     "metadata": {},
     "output_type": "display_data"
    }
   ],
   "source": [
    "# visualizing missing values using seaborn heatmap\n",
    "sns.heatmap(train_df.isnull(), yticklabels=False, cbar=False, cmap='viridis')"
   ]
  },
  {
   "cell_type": "code",
   "execution_count": 16,
   "metadata": {
    "execution": {
     "iopub.execute_input": "2023-01-27T14:40:20.334908Z",
     "iopub.status.busy": "2023-01-27T14:40:20.334587Z",
     "iopub.status.idle": "2023-01-27T14:40:21.265663Z",
     "shell.execute_reply": "2023-01-27T14:40:21.264043Z",
     "shell.execute_reply.started": "2023-01-27T14:40:20.334878Z"
    }
   },
   "outputs": [
    {
     "data": {
      "text/plain": [
       "<AxesSubplot: >"
      ]
     },
     "execution_count": 16,
     "metadata": {},
     "output_type": "execute_result"
    },
    {
     "data": {
      "image/png": "[encoded data removed]",
      "text/plain": [
       "<Figure size 1000x500 with 3 Axes>"
      ]
     },
     "metadata": {},
     "output_type": "display_data"
    }
   ],
   "source": [
    "# visualizing missing values with missingno barchart\n",
    "msno.bar(train_df, figsize=(10, 5), fontsize=10, color='dodgerblue')"
   ]
  },
  {
   "cell_type": "code",
   "execution_count": 17,
   "metadata": {
    "execution": {
     "iopub.execute_input": "2023-01-27T14:40:21.269221Z",
     "iopub.status.busy": "2023-01-27T14:40:21.268179Z",
     "iopub.status.idle": "2023-01-27T14:40:21.608628Z",
     "shell.execute_reply": "2023-01-27T14:40:21.607694Z",
     "shell.execute_reply.started": "2023-01-27T14:40:21.269144Z"
    }
   },
   "outputs": [
    {
     "data": {
      "text/plain": [
       "<AxesSubplot: >"
      ]
     },
     "execution_count": 17,
     "metadata": {},
     "output_type": "execute_result"
    },
    {
     "data": {
      "image/png": "[encoded data removed]",
      "text/plain": [
       "<Figure size 1000x500 with 1 Axes>"
      ]
     },
     "metadata": {},
     "output_type": "display_data"
    }
   ],
   "source": [
    "# visualizing missing values with missingno matrix\n",
    "msno.matrix(train_df, figsize=(10,5), fontsize=12, color=(0.101, 0.67, 0.33), sparkline=False)"
   ]
  },
  {
   "cell_type": "code",
   "execution_count": 18,
   "metadata": {
    "execution": {
     "iopub.execute_input": "2023-01-27T14:40:21.613185Z",
     "iopub.status.busy": "2023-01-27T14:40:21.612774Z",
     "iopub.status.idle": "2023-01-27T14:40:21.909098Z",
     "shell.execute_reply": "2023-01-27T14:40:21.908278Z",
     "shell.execute_reply.started": "2023-01-27T14:40:21.613122Z"
    }
   },
   "outputs": [
    {
     "data": {
      "text/plain": [
       "<AxesSubplot: >"
      ]
     },
     "execution_count": 18,
     "metadata": {},
     "output_type": "execute_result"
    },
    {
     "data": {
      "image/png": "[encoded data removed]",
      "text/plain": [
       "<Figure size 1000x500 with 2 Axes>"
      ]
     },
     "metadata": {},
     "output_type": "display_data"
    }
   ],
   "source": [
    "# visualizing missing values with missingno heatmap\n",
    "msno.heatmap(train_df, figsize=(10, 5), fontsize=14, labels=True, cmap='RdYlGn', cbar=True)"
   ]
  },
  {
   "cell_type": "code",
   "execution_count": 19,
   "metadata": {
    "execution": {
     "iopub.execute_input": "2023-01-27T14:40:21.911511Z",
     "iopub.status.busy": "2023-01-27T14:40:21.910783Z",
     "iopub.status.idle": "2023-01-27T14:40:22.227737Z",
     "shell.execute_reply": "2023-01-27T14:40:22.226198Z",
     "shell.execute_reply.started": "2023-01-27T14:40:21.911466Z"
    }
   },
   "outputs": [
    {
     "data": {
      "image/png": "[encoded data removed]",
      "text/plain": [
       "<Figure size 1000x500 with 1 Axes>"
      ]
     },
     "metadata": {},
     "output_type": "display_data"
    }
   ],
   "source": [
    "# visualizing missing values with missingno dendogram\n",
    "msno.dendrogram(train_df, figsize=(10,5), fontsize=12);"
   ]
  },
  {
   "cell_type": "code",
   "execution_count": 20,
   "metadata": {
    "execution": {
     "iopub.execute_input": "2023-01-27T14:40:22.231072Z",
     "iopub.status.busy": "2023-01-27T14:40:22.230111Z",
     "iopub.status.idle": "2023-01-27T14:40:22.424798Z",
     "shell.execute_reply": "2023-01-27T14:40:22.423902Z",
     "shell.execute_reply.started": "2023-01-27T14:40:22.231008Z"
    }
   },
   "outputs": [
    {
     "data": {
      "text/plain": [
       "<AxesSubplot: xlabel='Survived', ylabel='count'>"
      ]
     },
     "execution_count": 20,
     "metadata": {},
     "output_type": "execute_result"
    },
    {
     "data": {
      "image/png": "[encoded data removed]",
      "text/plain": [
       "<Figure size 640x480 with 1 Axes>"
      ]
     },
     "metadata": {},
     "output_type": "display_data"
    }
   ],
   "source": [
    "# visualizing how many people survived\n",
    "sns.set_style('whitegrid')\n",
    "sns.countplot(x='Survived', data=train_df)"
   ]
  },
  {
   "cell_type": "code",
   "execution_count": 21,
   "metadata": {
    "execution": {
     "iopub.execute_input": "2023-01-27T14:40:22.426769Z",
     "iopub.status.busy": "2023-01-27T14:40:22.425870Z",
     "iopub.status.idle": "2023-01-27T14:40:22.639184Z",
     "shell.execute_reply": "2023-01-27T14:40:22.637994Z",
     "shell.execute_reply.started": "2023-01-27T14:40:22.426735Z"
    }
   },
   "outputs": [
    {
     "data": {
      "text/plain": [
       "<AxesSubplot: xlabel='Survived', ylabel='count'>"
      ]
     },
     "execution_count": 21,
     "metadata": {},
     "output_type": "execute_result"
    },
    {
     "data": {
      "image/png": "[encoded data removed]",
      "text/plain": [
       "<Figure size 640x480 with 1 Axes>"
      ]
     },
     "metadata": {},
     "output_type": "display_data"
    }
   ],
   "source": [
    "# visualizing how many people survived based on Gender\n",
    "sns.set_style('whitegrid')\n",
    "sns.countplot(x='Survived', hue='Sex', data=train_df)"
   ]
  },
  {
   "cell_type": "code",
   "execution_count": 22,
   "metadata": {
    "execution": {
     "iopub.execute_input": "2023-01-27T14:40:22.640863Z",
     "iopub.status.busy": "2023-01-27T14:40:22.640504Z",
     "iopub.status.idle": "2023-01-27T14:40:22.650260Z",
     "shell.execute_reply": "2023-01-27T14:40:22.648926Z",
     "shell.execute_reply.started": "2023-01-27T14:40:22.640815Z"
    }
   },
   "outputs": [
    {
     "name": "stdout",
     "output_type": "stream",
     "text": [
      "Total Male Passengers:  577\n",
      "Total Female Passengers:  314\n"
     ]
    }
   ],
   "source": [
    "# male and female pessangers\n",
    "print('Total Male Passengers: ', train_df['Sex'].value_counts()['male'])\n",
    "print('Total Female Passengers: ', train_df['Sex'].value_counts()['female'])"
   ]
  },
  {
   "cell_type": "code",
   "execution_count": 23,
   "metadata": {
    "execution": {
     "iopub.execute_input": "2023-01-27T14:40:22.652387Z",
     "iopub.status.busy": "2023-01-27T14:40:22.651884Z",
     "iopub.status.idle": "2023-01-27T14:40:22.892448Z",
     "shell.execute_reply": "2023-01-27T14:40:22.891328Z",
     "shell.execute_reply.started": "2023-01-27T14:40:22.652344Z"
    }
   },
   "outputs": [
    {
     "data": {
      "text/plain": [
       "<AxesSubplot: xlabel='Survived', ylabel='count'>"
      ]
     },
     "execution_count": 23,
     "metadata": {},
     "output_type": "execute_result"
    },
    {
     "data": {
      "image/png": "[encoded data removed]",
      "text/plain": [
       "<Figure size 640x480 with 1 Axes>"
      ]
     },
     "metadata": {},
     "output_type": "display_data"
    }
   ],
   "source": [
    "# visualizing how many people survived based on Class\n",
    "sns.set_style('whitegrid')\n",
    "sns.countplot(x='Survived', hue='Pclass', data=train_df)"
   ]
  },
  {
   "cell_type": "code",
   "execution_count": 24,
   "metadata": {
    "execution": {
     "iopub.execute_input": "2023-01-27T14:40:22.894041Z",
     "iopub.status.busy": "2023-01-27T14:40:22.893734Z",
     "iopub.status.idle": "2023-01-27T14:40:23.378922Z",
     "shell.execute_reply": "2023-01-27T14:40:23.377746Z",
     "shell.execute_reply.started": "2023-01-27T14:40:22.894013Z"
    }
   },
   "outputs": [
    {
     "data": {
      "text/plain": [
       "<seaborn.axisgrid.FacetGrid at 0x1c340ea9d00>"
      ]
     },
     "execution_count": 24,
     "metadata": {},
     "output_type": "execute_result"
    },
    {
     "data": {
      "image/png": "[encoded data removed]",
      "text/plain": [
       "<Figure size 500x500 with 1 Axes>"
      ]
     },
     "metadata": {},
     "output_type": "display_data"
    }
   ],
   "source": [
    "# visualizing age distribution (dropping missing values)\n",
    "sns.displot(train_df['Age'].dropna(), kde=False, color='darkgreen', bins=30)"
   ]
  },
  {
   "cell_type": "code",
   "execution_count": 25,
   "metadata": {
    "execution": {
     "iopub.execute_input": "2023-01-27T14:40:23.381515Z",
     "iopub.status.busy": "2023-01-27T14:40:23.380779Z",
     "iopub.status.idle": "2023-01-27T14:40:23.609065Z",
     "shell.execute_reply": "2023-01-27T14:40:23.608215Z",
     "shell.execute_reply.started": "2023-01-27T14:40:23.381469Z"
    }
   },
   "outputs": [
    {
     "data": {
      "text/plain": [
       "<AxesSubplot: xlabel='SibSp', ylabel='count'>"
      ]
     },
     "execution_count": 25,
     "metadata": {},
     "output_type": "execute_result"
    },
    {
     "data": {
      "image/png": "[encoded data removed]",
      "text/plain": [
       "<Figure size 640x480 with 1 Axes>"
      ]
     },
     "metadata": {},
     "output_type": "display_data"
    }
   ],
   "source": [
    "# visualizing how many people had siblings or spouses\n",
    "sns.countplot(x='SibSp', data=train_df)"
   ]
  },
  {
   "cell_type": "markdown",
   "metadata": {},
   "source": [
    "# Organizing Datasets / Dealing with missing values"
   ]
  },
  {
   "cell_type": "code",
   "execution_count": 26,
   "metadata": {
    "execution": {
     "iopub.execute_input": "2023-01-27T14:40:23.611423Z",
     "iopub.status.busy": "2023-01-27T14:40:23.610731Z",
     "iopub.status.idle": "2023-01-27T14:40:23.616024Z",
     "shell.execute_reply": "2023-01-27T14:40:23.614865Z",
     "shell.execute_reply.started": "2023-01-27T14:40:23.611376Z"
    }
   },
   "outputs": [],
   "source": [
    "# Merging two dataframes\n",
    "#X = train_df[[\"Survived\",\"Pclass\",\"Sex\",\"Age\",\"SibSp\",\"Parch\",\"Fare\",\"Cabin\",\"Embarked\"]]\n",
    "# Y = train_df[\"Survived\"]\n",
    "#X_test = test_df[[\"Pclass\",\"Sex\",\"Age\",\"SibSp\",\"Parch\",\"Fare\",\"Cabin\",\"Embarked\"]]\n",
    "#frames = [X,X_test]\n",
    "#final_frame = pd.concat(frames)"
   ]
  },
  {
   "cell_type": "code",
   "execution_count": 27,
   "metadata": {
    "execution": {
     "iopub.execute_input": "2023-01-27T14:40:23.618439Z",
     "iopub.status.busy": "2023-01-27T14:40:23.617759Z",
     "iopub.status.idle": "2023-01-27T14:40:23.637495Z",
     "shell.execute_reply": "2023-01-27T14:40:23.636150Z",
     "shell.execute_reply.started": "2023-01-27T14:40:23.618391Z"
    }
   },
   "outputs": [],
   "source": [
    "full_data = [train_df, test_df]  # Merging two datasets in a list for logical operations\n",
    "\n",
    "# Extracting name prefixes into new column for creating numeric features\n",
    "for data in full_data:\n",
    "    data['Prefix'] = data['Name'].str.extract('([A-Za-z]+)\\.', expand = False)"
   ]
  },
  {
   "cell_type": "code",
   "execution_count": 28,
   "metadata": {
    "execution": {
     "iopub.execute_input": "2023-01-27T14:40:23.639700Z",
     "iopub.status.busy": "2023-01-27T14:40:23.638932Z",
     "iopub.status.idle": "2023-01-27T14:40:23.653248Z",
     "shell.execute_reply": "2023-01-27T14:40:23.651964Z",
     "shell.execute_reply.started": "2023-01-27T14:40:23.639661Z"
    }
   },
   "outputs": [],
   "source": [
    "# Mapping prefixes and initializing numeric values against those\n",
    "Prefix_mapping = {\"Mr\":0,\"Miss\":1,\"Mrs\":2,\"Master\":0,\"Dr\":3,\"Rev\":3,\"Major\":3,\"Mlle\":1,\"Col\":3,\"Capt\":3,\"Sir\":3,\"Ms\":1,\"Lady\":3,\"Mme\":2,\"Countess\":3,\"Jonkheer\":3,\"Don\":3}\n",
    "for data in full_data:\n",
    "    data[\"Prefix\"] = data[\"Prefix\"].map(Prefix_mapping)"
   ]
  },
  {
   "cell_type": "code",
   "execution_count": 29,
   "metadata": {
    "execution": {
     "iopub.execute_input": "2023-01-27T14:40:23.655081Z",
     "iopub.status.busy": "2023-01-27T14:40:23.654653Z",
     "iopub.status.idle": "2023-01-27T14:40:23.668954Z",
     "shell.execute_reply": "2023-01-27T14:40:23.667729Z",
     "shell.execute_reply.started": "2023-01-27T14:40:23.655050Z"
    }
   },
   "outputs": [],
   "source": [
    "# Dropping/Removing 'Name' column from both datasets\n",
    "train_df.drop(columns = \"Name\", inplace = True)\n",
    "test_df.drop(columns = \"Name\", inplace = True)"
   ]
  },
  {
   "cell_type": "code",
   "execution_count": 30,
   "metadata": {
    "execution": {
     "iopub.execute_input": "2023-01-27T14:40:23.671038Z",
     "iopub.status.busy": "2023-01-27T14:40:23.670576Z",
     "iopub.status.idle": "2023-01-27T14:40:23.680070Z",
     "shell.execute_reply": "2023-01-27T14:40:23.679024Z",
     "shell.execute_reply.started": "2023-01-27T14:40:23.671003Z"
    }
   },
   "outputs": [],
   "source": [
    "# Imputing missing Data using KNN\n",
    "from sklearn.impute import KNNImputer\n",
    "from sklearn.preprocessing import MinMaxScaler"
   ]
  },
  {
   "cell_type": "code",
   "execution_count": 31,
   "metadata": {
    "execution": {
     "iopub.execute_input": "2023-01-27T14:40:23.681944Z",
     "iopub.status.busy": "2023-01-27T14:40:23.681580Z",
     "iopub.status.idle": "2023-01-27T14:40:23.692784Z",
     "shell.execute_reply": "2023-01-27T14:40:23.691768Z",
     "shell.execute_reply.started": "2023-01-27T14:40:23.681912Z"
    }
   },
   "outputs": [],
   "source": [
    "# Define a subset of the dataset for 'Age' column in both datasets\n",
    "df_knn1 = train_df.filter(['Age'], axis=1).copy()\n",
    "df_knn2 = test_df.filter(['Age'], axis=1).copy()"
   ]
  },
  {
   "cell_type": "code",
   "execution_count": 32,
   "metadata": {
    "execution": {
     "iopub.execute_input": "2023-01-27T14:40:23.694931Z",
     "iopub.status.busy": "2023-01-27T14:40:23.694467Z",
     "iopub.status.idle": "2023-01-27T14:40:23.712265Z",
     "shell.execute_reply": "2023-01-27T14:40:23.710795Z",
     "shell.execute_reply.started": "2023-01-27T14:40:23.694891Z"
    }
   },
   "outputs": [],
   "source": [
    "# Define scaler to set values between 0 and 1 (both datasets)\n",
    "scaler = MinMaxScaler(feature_range=(0, 1))\n",
    "df_knn1 = pd.DataFrame(scaler.fit_transform(df_knn1), columns = df_knn1.columns)\n",
    "df_knn2 = pd.DataFrame(scaler.fit_transform(df_knn2), columns = df_knn2.columns)"
   ]
  },
  {
   "cell_type": "code",
   "execution_count": 33,
   "metadata": {
    "execution": {
     "iopub.execute_input": "2023-01-27T14:40:23.714831Z",
     "iopub.status.busy": "2023-01-27T14:40:23.713585Z",
     "iopub.status.idle": "2023-01-27T14:40:23.738092Z",
     "shell.execute_reply": "2023-01-27T14:40:23.737054Z",
     "shell.execute_reply.started": "2023-01-27T14:40:23.714771Z"
    }
   },
   "outputs": [],
   "source": [
    "# Define KNN imputer and fill missing values (both datasets)\n",
    "knn_imputer = KNNImputer(n_neighbors=5, weights='uniform', metric='nan_euclidean')\n",
    "df_knn_imputed1 = pd.DataFrame(knn_imputer.fit_transform(df_knn1), columns=df_knn1.columns)\n",
    "df_knn_imputed2 = pd.DataFrame(knn_imputer.fit_transform(df_knn2), columns=df_knn2.columns)"
   ]
  },
  {
   "cell_type": "code",
   "execution_count": 34,
   "metadata": {
    "execution": {
     "iopub.execute_input": "2023-01-27T14:40:23.739734Z",
     "iopub.status.busy": "2023-01-27T14:40:23.739394Z",
     "iopub.status.idle": "2023-01-27T14:40:23.746839Z",
     "shell.execute_reply": "2023-01-27T14:40:23.745310Z",
     "shell.execute_reply.started": "2023-01-27T14:40:23.739703Z"
    }
   },
   "outputs": [],
   "source": [
    "# Converting age into the original data values (both datasets)\n",
    "df_knn_imputed1['Age'] = df_knn_imputed1['Age']*100\n",
    "df_knn_imputed2['Age'] = df_knn_imputed2['Age']*100"
   ]
  },
  {
   "cell_type": "code",
   "execution_count": 35,
   "metadata": {
    "execution": {
     "iopub.execute_input": "2023-01-27T14:40:23.749459Z",
     "iopub.status.busy": "2023-01-27T14:40:23.748416Z",
     "iopub.status.idle": "2023-01-27T14:40:23.769415Z",
     "shell.execute_reply": "2023-01-27T14:40:23.767960Z",
     "shell.execute_reply.started": "2023-01-27T14:40:23.749412Z"
    }
   },
   "outputs": [
    {
     "name": "stdout",
     "output_type": "stream",
     "text": [
      "<class 'pandas.core.frame.DataFrame'>\n",
      "RangeIndex: 891 entries, 0 to 890\n",
      "Data columns (total 1 columns):\n",
      " #   Column  Non-Null Count  Dtype  \n",
      "---  ------  --------------  -----  \n",
      " 0   Age     891 non-null    float64\n",
      "dtypes: float64(1)\n",
      "memory usage: 7.1 KB\n"
     ]
    }
   ],
   "source": [
    "df_knn_imputed1.info()"
   ]
  },
  {
   "cell_type": "code",
   "execution_count": 36,
   "metadata": {
    "execution": {
     "iopub.execute_input": "2023-01-27T14:40:23.771550Z",
     "iopub.status.busy": "2023-01-27T14:40:23.770999Z",
     "iopub.status.idle": "2023-01-27T14:40:23.788245Z",
     "shell.execute_reply": "2023-01-27T14:40:23.787010Z",
     "shell.execute_reply.started": "2023-01-27T14:40:23.771514Z"
    }
   },
   "outputs": [
    {
     "name": "stdout",
     "output_type": "stream",
     "text": [
      "<class 'pandas.core.frame.DataFrame'>\n",
      "RangeIndex: 418 entries, 0 to 417\n",
      "Data columns (total 1 columns):\n",
      " #   Column  Non-Null Count  Dtype  \n",
      "---  ------  --------------  -----  \n",
      " 0   Age     418 non-null    float64\n",
      "dtypes: float64(1)\n",
      "memory usage: 3.4 KB\n"
     ]
    }
   ],
   "source": [
    "df_knn_imputed2.info()"
   ]
  },
  {
   "cell_type": "code",
   "execution_count": 37,
   "metadata": {
    "execution": {
     "iopub.execute_input": "2023-01-27T14:40:23.790331Z",
     "iopub.status.busy": "2023-01-27T14:40:23.789620Z",
     "iopub.status.idle": "2023-01-27T14:40:24.272698Z",
     "shell.execute_reply": "2023-01-27T14:40:24.271534Z",
     "shell.execute_reply.started": "2023-01-27T14:40:23.790297Z"
    }
   },
   "outputs": [
    {
     "data": {
      "text/plain": [
       "<seaborn.axisgrid.FacetGrid at 0x1c34074ed60>"
      ]
     },
     "execution_count": 37,
     "metadata": {},
     "output_type": "execute_result"
    },
    {
     "data": {
      "image/png": "[encoded data removed]",
      "text/plain": [
       "<Figure size 500x500 with 1 Axes>"
      ]
     },
     "metadata": {},
     "output_type": "display_data"
    }
   ],
   "source": [
    "# visualizing the spreding of 'Age' data\n",
    "sns.displot(df_knn_imputed1['Age'].dropna(), kde=False, color='darkgreen', bins=30)"
   ]
  },
  {
   "cell_type": "code",
   "execution_count": 38,
   "metadata": {
    "execution": {
     "iopub.execute_input": "2023-01-27T14:40:24.274753Z",
     "iopub.status.busy": "2023-01-27T14:40:24.274294Z",
     "iopub.status.idle": "2023-01-27T14:40:24.280020Z",
     "shell.execute_reply": "2023-01-27T14:40:24.279176Z",
     "shell.execute_reply.started": "2023-01-27T14:40:24.274710Z"
    }
   },
   "outputs": [],
   "source": [
    "# replacing missing columns with KNN 'Age' values from the sub-data-frame\n",
    "train_df['Age'] = df_knn_imputed1['Age']\n",
    "test_df['Age'] = df_knn_imputed2['Age']"
   ]
  },
  {
   "cell_type": "code",
   "execution_count": 39,
   "metadata": {
    "execution": {
     "iopub.execute_input": "2023-01-27T14:40:24.281588Z",
     "iopub.status.busy": "2023-01-27T14:40:24.281276Z",
     "iopub.status.idle": "2023-01-27T14:40:24.292335Z",
     "shell.execute_reply": "2023-01-27T14:40:24.291075Z",
     "shell.execute_reply.started": "2023-01-27T14:40:24.281559Z"
    }
   },
   "outputs": [],
   "source": [
    "# Ffill imputation for filling text missing data (Cabin Column)\n",
    "#train_df['Cabin'] = train_df['Cabin'].fillna(method='ffill')"
   ]
  },
  {
   "cell_type": "code",
   "execution_count": 40,
   "metadata": {
    "execution": {
     "iopub.execute_input": "2023-01-27T14:40:24.294845Z",
     "iopub.status.busy": "2023-01-27T14:40:24.293882Z",
     "iopub.status.idle": "2023-01-27T14:40:24.306623Z",
     "shell.execute_reply": "2023-01-27T14:40:24.305380Z",
     "shell.execute_reply.started": "2023-01-27T14:40:24.294808Z"
    }
   },
   "outputs": [],
   "source": [
    "# Initializing Numeric values against the 'Sex' values (i.e. female=0, male=1) for both datasets\n",
    "dummy_sex1 = pd.get_dummies(train_df[\"Sex\"])\n",
    "dummy_sex2 = pd.get_dummies(test_df[\"Sex\"])\n",
    "train_df[\"Sex\"] = dummy_sex1[\"female\"]\n",
    "test_df[\"Sex\"] = dummy_sex2[\"female\"]"
   ]
  },
  {
   "cell_type": "code",
   "execution_count": 41,
   "metadata": {
    "execution": {
     "iopub.execute_input": "2023-01-27T14:40:24.309366Z",
     "iopub.status.busy": "2023-01-27T14:40:24.308386Z",
     "iopub.status.idle": "2023-01-27T14:40:24.583751Z",
     "shell.execute_reply": "2023-01-27T14:40:24.582453Z",
     "shell.execute_reply.started": "2023-01-27T14:40:24.309312Z"
    }
   },
   "outputs": [],
   "source": [
    "# Dealing with missing data in Cabin (initializing 0 on missing values, 1 on existing values) for both datasets\n",
    "for i in range(891):\n",
    "    if(train_df.at[i,\"Cabin\"]!=0):\n",
    "        train_df.at[i,\"Cabin\"]=1\n",
    "        \n",
    "for i in range(418):\n",
    "    if(test_df.at[i,\"Cabin\"]!=0):\n",
    "        test_df.at[i,\"Cabin\"]=1"
   ]
  },
  {
   "cell_type": "code",
   "execution_count": 42,
   "metadata": {
    "execution": {
     "iopub.execute_input": "2023-01-27T14:40:24.593182Z",
     "iopub.status.busy": "2023-01-27T14:40:24.592692Z",
     "iopub.status.idle": "2023-01-27T14:40:24.608513Z",
     "shell.execute_reply": "2023-01-27T14:40:24.607143Z",
     "shell.execute_reply.started": "2023-01-27T14:40:24.593146Z"
    }
   },
   "outputs": [],
   "source": [
    "# Splitting Embarked datapoint in three categories to assign numeric values on those (for both datasets)\n",
    "emb_dummies1 = pd.get_dummies(train_df[\"Embarked\"])\n",
    "train_df[\"C\"] = emb_dummies1[\"C\"]\n",
    "train_df[\"Q\"] = emb_dummies1[\"Q\"]\n",
    "train_df[\"S\"] = emb_dummies1[\"S\"]\n",
    "train_df.drop(columns=\"Embarked\",inplace = True)\n",
    "emb_dummies2 = pd.get_dummies(test_df[\"Embarked\"])\n",
    "test_df[\"C\"] = emb_dummies2[\"C\"]\n",
    "test_df[\"Q\"] = emb_dummies2[\"Q\"]\n",
    "test_df[\"S\"] = emb_dummies2[\"S\"]\n",
    "test_df.drop(columns=\"Embarked\",inplace = True)"
   ]
  },
  {
   "cell_type": "code",
   "execution_count": 43,
   "metadata": {
    "execution": {
     "iopub.execute_input": "2023-01-27T14:40:24.610053Z",
     "iopub.status.busy": "2023-01-27T14:40:24.609738Z",
     "iopub.status.idle": "2023-01-27T14:40:24.628151Z",
     "shell.execute_reply": "2023-01-27T14:40:24.626729Z",
     "shell.execute_reply.started": "2023-01-27T14:40:24.610024Z"
    }
   },
   "outputs": [
    {
     "data": {
      "text/html": [
       "<div>\n",
       "<style scoped>\n",
       "    .dataframe tbody tr th:only-of-type {\n",
       "        vertical-align: middle;\n",
       "    }\n",
       "\n",
       "    .dataframe tbody tr th {\n",
       "        vertical-align: top;\n",
       "    }\n",
       "\n",
       "    .dataframe thead th {\n",
       "        text-align: right;\n",
       "    }\n",
       "</style>\n",
       "<table border=\"1\" class=\"dataframe\">\n",
       "  <thead>\n",
       "    <tr style=\"text-align: right;\">\n",
       "      <th></th>\n",
       "      <th>PassengerId</th>\n",
       "      <th>Survived</th>\n",
       "      <th>Pclass</th>\n",
       "      <th>Sex</th>\n",
       "      <th>Age</th>\n",
       "      <th>SibSp</th>\n",
       "      <th>Parch</th>\n",
       "      <th>Ticket</th>\n",
       "      <th>Fare</th>\n",
       "      <th>Cabin</th>\n",
       "      <th>Prefix</th>\n",
       "      <th>C</th>\n",
       "      <th>Q</th>\n",
       "      <th>S</th>\n",
       "    </tr>\n",
       "  </thead>\n",
       "  <tbody>\n",
       "    <tr>\n",
       "      <th>0</th>\n",
       "      <td>1</td>\n",
       "      <td>0</td>\n",
       "      <td>3</td>\n",
       "      <td>0</td>\n",
       "      <td>27.117366</td>\n",
       "      <td>1</td>\n",
       "      <td>0</td>\n",
       "      <td>A/5 21171</td>\n",
       "      <td>7.2500</td>\n",
       "      <td>1</td>\n",
       "      <td>0</td>\n",
       "      <td>0</td>\n",
       "      <td>0</td>\n",
       "      <td>1</td>\n",
       "    </tr>\n",
       "    <tr>\n",
       "      <th>1</th>\n",
       "      <td>2</td>\n",
       "      <td>1</td>\n",
       "      <td>1</td>\n",
       "      <td>1</td>\n",
       "      <td>47.222920</td>\n",
       "      <td>1</td>\n",
       "      <td>0</td>\n",
       "      <td>PC 17599</td>\n",
       "      <td>71.2833</td>\n",
       "      <td>1</td>\n",
       "      <td>2</td>\n",
       "      <td>1</td>\n",
       "      <td>0</td>\n",
       "      <td>0</td>\n",
       "    </tr>\n",
       "    <tr>\n",
       "      <th>2</th>\n",
       "      <td>3</td>\n",
       "      <td>1</td>\n",
       "      <td>3</td>\n",
       "      <td>1</td>\n",
       "      <td>32.143755</td>\n",
       "      <td>0</td>\n",
       "      <td>0</td>\n",
       "      <td>STON/O2. 3101282</td>\n",
       "      <td>7.9250</td>\n",
       "      <td>1</td>\n",
       "      <td>1</td>\n",
       "      <td>0</td>\n",
       "      <td>0</td>\n",
       "      <td>1</td>\n",
       "    </tr>\n",
       "    <tr>\n",
       "      <th>3</th>\n",
       "      <td>4</td>\n",
       "      <td>1</td>\n",
       "      <td>1</td>\n",
       "      <td>1</td>\n",
       "      <td>43.453129</td>\n",
       "      <td>1</td>\n",
       "      <td>0</td>\n",
       "      <td>113803</td>\n",
       "      <td>53.1000</td>\n",
       "      <td>1</td>\n",
       "      <td>2</td>\n",
       "      <td>0</td>\n",
       "      <td>0</td>\n",
       "      <td>1</td>\n",
       "    </tr>\n",
       "    <tr>\n",
       "      <th>4</th>\n",
       "      <td>5</td>\n",
       "      <td>0</td>\n",
       "      <td>3</td>\n",
       "      <td>0</td>\n",
       "      <td>43.453129</td>\n",
       "      <td>0</td>\n",
       "      <td>0</td>\n",
       "      <td>373450</td>\n",
       "      <td>8.0500</td>\n",
       "      <td>1</td>\n",
       "      <td>0</td>\n",
       "      <td>0</td>\n",
       "      <td>0</td>\n",
       "      <td>1</td>\n",
       "    </tr>\n",
       "  </tbody>\n",
       "</table>\n",
       "</div>"
      ],
      "text/plain": [
       "   PassengerId  Survived  Pclass  Sex        Age  SibSp  Parch  \\\n",
       "0            1         0       3    0  27.117366      1      0   \n",
       "1            2         1       1    1  47.222920      1      0   \n",
       "2            3         1       3    1  32.143755      0      0   \n",
       "3            4         1       1    1  43.453129      1      0   \n",
       "4            5         0       3    0  43.453129      0      0   \n",
       "\n",
       "             Ticket     Fare Cabin  Prefix  C  Q  S  \n",
       "0         A/5 21171   7.2500     1       0  0  0  1  \n",
       "1          PC 17599  71.2833     1       2  1  0  0  \n",
       "2  STON/O2. 3101282   7.9250     1       1  0  0  1  \n",
       "3            113803  53.1000     1       2  0  0  1  \n",
       "4            373450   8.0500     1       0  0  0  1  "
      ]
     },
     "execution_count": 43,
     "metadata": {},
     "output_type": "execute_result"
    }
   ],
   "source": [
    "train_df.head()"
   ]
  },
  {
   "cell_type": "code",
   "execution_count": 44,
   "metadata": {
    "execution": {
     "iopub.execute_input": "2023-01-27T14:40:24.630389Z",
     "iopub.status.busy": "2023-01-27T14:40:24.629893Z",
     "iopub.status.idle": "2023-01-27T14:40:24.650626Z",
     "shell.execute_reply": "2023-01-27T14:40:24.649183Z",
     "shell.execute_reply.started": "2023-01-27T14:40:24.630344Z"
    }
   },
   "outputs": [
    {
     "data": {
      "text/html": [
       "<div>\n",
       "<style scoped>\n",
       "    .dataframe tbody tr th:only-of-type {\n",
       "        vertical-align: middle;\n",
       "    }\n",
       "\n",
       "    .dataframe tbody tr th {\n",
       "        vertical-align: top;\n",
       "    }\n",
       "\n",
       "    .dataframe thead th {\n",
       "        text-align: right;\n",
       "    }\n",
       "</style>\n",
       "<table border=\"1\" class=\"dataframe\">\n",
       "  <thead>\n",
       "    <tr style=\"text-align: right;\">\n",
       "      <th></th>\n",
       "      <th>PassengerId</th>\n",
       "      <th>Pclass</th>\n",
       "      <th>Sex</th>\n",
       "      <th>Age</th>\n",
       "      <th>SibSp</th>\n",
       "      <th>Parch</th>\n",
       "      <th>Ticket</th>\n",
       "      <th>Fare</th>\n",
       "      <th>Cabin</th>\n",
       "      <th>Prefix</th>\n",
       "      <th>C</th>\n",
       "      <th>Q</th>\n",
       "      <th>S</th>\n",
       "    </tr>\n",
       "  </thead>\n",
       "  <tbody>\n",
       "    <tr>\n",
       "      <th>0</th>\n",
       "      <td>892</td>\n",
       "      <td>3</td>\n",
       "      <td>0</td>\n",
       "      <td>45.272320</td>\n",
       "      <td>0</td>\n",
       "      <td>0</td>\n",
       "      <td>330911</td>\n",
       "      <td>7.8292</td>\n",
       "      <td>1</td>\n",
       "      <td>0.0</td>\n",
       "      <td>0</td>\n",
       "      <td>1</td>\n",
       "      <td>0</td>\n",
       "    </tr>\n",
       "    <tr>\n",
       "      <th>1</th>\n",
       "      <td>893</td>\n",
       "      <td>3</td>\n",
       "      <td>1</td>\n",
       "      <td>61.756561</td>\n",
       "      <td>1</td>\n",
       "      <td>0</td>\n",
       "      <td>363272</td>\n",
       "      <td>7.0000</td>\n",
       "      <td>1</td>\n",
       "      <td>2.0</td>\n",
       "      <td>0</td>\n",
       "      <td>0</td>\n",
       "      <td>1</td>\n",
       "    </tr>\n",
       "    <tr>\n",
       "      <th>2</th>\n",
       "      <td>894</td>\n",
       "      <td>2</td>\n",
       "      <td>0</td>\n",
       "      <td>81.537650</td>\n",
       "      <td>0</td>\n",
       "      <td>0</td>\n",
       "      <td>240276</td>\n",
       "      <td>9.6875</td>\n",
       "      <td>1</td>\n",
       "      <td>0.0</td>\n",
       "      <td>0</td>\n",
       "      <td>1</td>\n",
       "      <td>0</td>\n",
       "    </tr>\n",
       "    <tr>\n",
       "      <th>3</th>\n",
       "      <td>895</td>\n",
       "      <td>3</td>\n",
       "      <td>0</td>\n",
       "      <td>35.381775</td>\n",
       "      <td>0</td>\n",
       "      <td>0</td>\n",
       "      <td>315154</td>\n",
       "      <td>8.6625</td>\n",
       "      <td>1</td>\n",
       "      <td>0.0</td>\n",
       "      <td>0</td>\n",
       "      <td>0</td>\n",
       "      <td>1</td>\n",
       "    </tr>\n",
       "    <tr>\n",
       "      <th>4</th>\n",
       "      <td>896</td>\n",
       "      <td>3</td>\n",
       "      <td>1</td>\n",
       "      <td>28.788079</td>\n",
       "      <td>1</td>\n",
       "      <td>1</td>\n",
       "      <td>3101298</td>\n",
       "      <td>12.2875</td>\n",
       "      <td>1</td>\n",
       "      <td>2.0</td>\n",
       "      <td>0</td>\n",
       "      <td>0</td>\n",
       "      <td>1</td>\n",
       "    </tr>\n",
       "  </tbody>\n",
       "</table>\n",
       "</div>"
      ],
      "text/plain": [
       "   PassengerId  Pclass  Sex        Age  SibSp  Parch   Ticket     Fare Cabin  \\\n",
       "0          892       3    0  45.272320      0      0   330911   7.8292     1   \n",
       "1          893       3    1  61.756561      1      0   363272   7.0000     1   \n",
       "2          894       2    0  81.537650      0      0   240276   9.6875     1   \n",
       "3          895       3    0  35.381775      0      0   315154   8.6625     1   \n",
       "4          896       3    1  28.788079      1      1  3101298  12.2875     1   \n",
       "\n",
       "   Prefix  C  Q  S  \n",
       "0     0.0  0  1  0  \n",
       "1     2.0  0  0  1  \n",
       "2     0.0  0  1  0  \n",
       "3     0.0  0  0  1  \n",
       "4     2.0  0  0  1  "
      ]
     },
     "execution_count": 44,
     "metadata": {},
     "output_type": "execute_result"
    }
   ],
   "source": [
    "test_df.head()"
   ]
  },
  {
   "cell_type": "code",
   "execution_count": 45,
   "metadata": {
    "execution": {
     "iopub.execute_input": "2023-01-27T14:40:24.652883Z",
     "iopub.status.busy": "2023-01-27T14:40:24.652552Z",
     "iopub.status.idle": "2023-01-27T14:40:24.664389Z",
     "shell.execute_reply": "2023-01-27T14:40:24.663342Z",
     "shell.execute_reply.started": "2023-01-27T14:40:24.652853Z"
    }
   },
   "outputs": [],
   "source": [
    "# Dropping unnecessary columns from the both datasets\n",
    "train_df.drop(columns = \"PassengerId\", inplace = True)\n",
    "test_df.drop(columns = \"PassengerId\", inplace = True)\n",
    "train_df.drop(columns = \"Ticket\", inplace = True)\n",
    "test_df.drop(columns = \"Ticket\", inplace = True)"
   ]
  },
  {
   "cell_type": "code",
   "execution_count": 46,
   "metadata": {
    "execution": {
     "iopub.execute_input": "2023-01-27T14:40:24.665962Z",
     "iopub.status.busy": "2023-01-27T14:40:24.665656Z",
     "iopub.status.idle": "2023-01-27T14:40:24.690693Z",
     "shell.execute_reply": "2023-01-27T14:40:24.689301Z",
     "shell.execute_reply.started": "2023-01-27T14:40:24.665933Z"
    }
   },
   "outputs": [
    {
     "data": {
      "text/html": [
       "<div>\n",
       "<style scoped>\n",
       "    .dataframe tbody tr th:only-of-type {\n",
       "        vertical-align: middle;\n",
       "    }\n",
       "\n",
       "    .dataframe tbody tr th {\n",
       "        vertical-align: top;\n",
       "    }\n",
       "\n",
       "    .dataframe thead th {\n",
       "        text-align: right;\n",
       "    }\n",
       "</style>\n",
       "<table border=\"1\" class=\"dataframe\">\n",
       "  <thead>\n",
       "    <tr style=\"text-align: right;\">\n",
       "      <th></th>\n",
       "      <th>Survived</th>\n",
       "      <th>Pclass</th>\n",
       "      <th>Sex</th>\n",
       "      <th>Age</th>\n",
       "      <th>SibSp</th>\n",
       "      <th>Parch</th>\n",
       "      <th>Fare</th>\n",
       "      <th>Cabin</th>\n",
       "      <th>Prefix</th>\n",
       "      <th>C</th>\n",
       "      <th>Q</th>\n",
       "      <th>S</th>\n",
       "    </tr>\n",
       "  </thead>\n",
       "  <tbody>\n",
       "    <tr>\n",
       "      <th>0</th>\n",
       "      <td>0</td>\n",
       "      <td>3</td>\n",
       "      <td>0</td>\n",
       "      <td>27.117366</td>\n",
       "      <td>1</td>\n",
       "      <td>0</td>\n",
       "      <td>7.2500</td>\n",
       "      <td>1</td>\n",
       "      <td>0</td>\n",
       "      <td>0</td>\n",
       "      <td>0</td>\n",
       "      <td>1</td>\n",
       "    </tr>\n",
       "    <tr>\n",
       "      <th>1</th>\n",
       "      <td>1</td>\n",
       "      <td>1</td>\n",
       "      <td>1</td>\n",
       "      <td>47.222920</td>\n",
       "      <td>1</td>\n",
       "      <td>0</td>\n",
       "      <td>71.2833</td>\n",
       "      <td>1</td>\n",
       "      <td>2</td>\n",
       "      <td>1</td>\n",
       "      <td>0</td>\n",
       "      <td>0</td>\n",
       "    </tr>\n",
       "    <tr>\n",
       "      <th>2</th>\n",
       "      <td>1</td>\n",
       "      <td>3</td>\n",
       "      <td>1</td>\n",
       "      <td>32.143755</td>\n",
       "      <td>0</td>\n",
       "      <td>0</td>\n",
       "      <td>7.9250</td>\n",
       "      <td>1</td>\n",
       "      <td>1</td>\n",
       "      <td>0</td>\n",
       "      <td>0</td>\n",
       "      <td>1</td>\n",
       "    </tr>\n",
       "    <tr>\n",
       "      <th>3</th>\n",
       "      <td>1</td>\n",
       "      <td>1</td>\n",
       "      <td>1</td>\n",
       "      <td>43.453129</td>\n",
       "      <td>1</td>\n",
       "      <td>0</td>\n",
       "      <td>53.1000</td>\n",
       "      <td>1</td>\n",
       "      <td>2</td>\n",
       "      <td>0</td>\n",
       "      <td>0</td>\n",
       "      <td>1</td>\n",
       "    </tr>\n",
       "    <tr>\n",
       "      <th>4</th>\n",
       "      <td>0</td>\n",
       "      <td>3</td>\n",
       "      <td>0</td>\n",
       "      <td>43.453129</td>\n",
       "      <td>0</td>\n",
       "      <td>0</td>\n",
       "      <td>8.0500</td>\n",
       "      <td>1</td>\n",
       "      <td>0</td>\n",
       "      <td>0</td>\n",
       "      <td>0</td>\n",
       "      <td>1</td>\n",
       "    </tr>\n",
       "  </tbody>\n",
       "</table>\n",
       "</div>"
      ],
      "text/plain": [
       "   Survived  Pclass  Sex        Age  SibSp  Parch     Fare Cabin  Prefix  C  \\\n",
       "0         0       3    0  27.117366      1      0   7.2500     1       0  0   \n",
       "1         1       1    1  47.222920      1      0  71.2833     1       2  1   \n",
       "2         1       3    1  32.143755      0      0   7.9250     1       1  0   \n",
       "3         1       1    1  43.453129      1      0  53.1000     1       2  0   \n",
       "4         0       3    0  43.453129      0      0   8.0500     1       0  0   \n",
       "\n",
       "   Q  S  \n",
       "0  0  1  \n",
       "1  0  0  \n",
       "2  0  1  \n",
       "3  0  1  \n",
       "4  0  1  "
      ]
     },
     "execution_count": 46,
     "metadata": {},
     "output_type": "execute_result"
    }
   ],
   "source": [
    "train_df.head()"
   ]
  },
  {
   "cell_type": "code",
   "execution_count": 47,
   "metadata": {
    "execution": {
     "iopub.execute_input": "2023-01-27T14:40:24.692687Z",
     "iopub.status.busy": "2023-01-27T14:40:24.692360Z",
     "iopub.status.idle": "2023-01-27T14:40:24.711914Z",
     "shell.execute_reply": "2023-01-27T14:40:24.710668Z",
     "shell.execute_reply.started": "2023-01-27T14:40:24.692659Z"
    }
   },
   "outputs": [
    {
     "data": {
      "text/html": [
       "<div>\n",
       "<style scoped>\n",
       "    .dataframe tbody tr th:only-of-type {\n",
       "        vertical-align: middle;\n",
       "    }\n",
       "\n",
       "    .dataframe tbody tr th {\n",
       "        vertical-align: top;\n",
       "    }\n",
       "\n",
       "    .dataframe thead th {\n",
       "        text-align: right;\n",
       "    }\n",
       "</style>\n",
       "<table border=\"1\" class=\"dataframe\">\n",
       "  <thead>\n",
       "    <tr style=\"text-align: right;\">\n",
       "      <th></th>\n",
       "      <th>Pclass</th>\n",
       "      <th>Sex</th>\n",
       "      <th>Age</th>\n",
       "      <th>SibSp</th>\n",
       "      <th>Parch</th>\n",
       "      <th>Fare</th>\n",
       "      <th>Cabin</th>\n",
       "      <th>Prefix</th>\n",
       "      <th>C</th>\n",
       "      <th>Q</th>\n",
       "      <th>S</th>\n",
       "    </tr>\n",
       "  </thead>\n",
       "  <tbody>\n",
       "    <tr>\n",
       "      <th>0</th>\n",
       "      <td>3</td>\n",
       "      <td>0</td>\n",
       "      <td>45.272320</td>\n",
       "      <td>0</td>\n",
       "      <td>0</td>\n",
       "      <td>7.8292</td>\n",
       "      <td>1</td>\n",
       "      <td>0.0</td>\n",
       "      <td>0</td>\n",
       "      <td>1</td>\n",
       "      <td>0</td>\n",
       "    </tr>\n",
       "    <tr>\n",
       "      <th>1</th>\n",
       "      <td>3</td>\n",
       "      <td>1</td>\n",
       "      <td>61.756561</td>\n",
       "      <td>1</td>\n",
       "      <td>0</td>\n",
       "      <td>7.0000</td>\n",
       "      <td>1</td>\n",
       "      <td>2.0</td>\n",
       "      <td>0</td>\n",
       "      <td>0</td>\n",
       "      <td>1</td>\n",
       "    </tr>\n",
       "    <tr>\n",
       "      <th>2</th>\n",
       "      <td>2</td>\n",
       "      <td>0</td>\n",
       "      <td>81.537650</td>\n",
       "      <td>0</td>\n",
       "      <td>0</td>\n",
       "      <td>9.6875</td>\n",
       "      <td>1</td>\n",
       "      <td>0.0</td>\n",
       "      <td>0</td>\n",
       "      <td>1</td>\n",
       "      <td>0</td>\n",
       "    </tr>\n",
       "    <tr>\n",
       "      <th>3</th>\n",
       "      <td>3</td>\n",
       "      <td>0</td>\n",
       "      <td>35.381775</td>\n",
       "      <td>0</td>\n",
       "      <td>0</td>\n",
       "      <td>8.6625</td>\n",
       "      <td>1</td>\n",
       "      <td>0.0</td>\n",
       "      <td>0</td>\n",
       "      <td>0</td>\n",
       "      <td>1</td>\n",
       "    </tr>\n",
       "    <tr>\n",
       "      <th>4</th>\n",
       "      <td>3</td>\n",
       "      <td>1</td>\n",
       "      <td>28.788079</td>\n",
       "      <td>1</td>\n",
       "      <td>1</td>\n",
       "      <td>12.2875</td>\n",
       "      <td>1</td>\n",
       "      <td>2.0</td>\n",
       "      <td>0</td>\n",
       "      <td>0</td>\n",
       "      <td>1</td>\n",
       "    </tr>\n",
       "  </tbody>\n",
       "</table>\n",
       "</div>"
      ],
      "text/plain": [
       "   Pclass  Sex        Age  SibSp  Parch     Fare Cabin  Prefix  C  Q  S\n",
       "0       3    0  45.272320      0      0   7.8292     1     0.0  0  1  0\n",
       "1       3    1  61.756561      1      0   7.0000     1     2.0  0  0  1\n",
       "2       2    0  81.537650      0      0   9.6875     1     0.0  0  1  0\n",
       "3       3    0  35.381775      0      0   8.6625     1     0.0  0  0  1\n",
       "4       3    1  28.788079      1      1  12.2875     1     2.0  0  0  1"
      ]
     },
     "execution_count": 47,
     "metadata": {},
     "output_type": "execute_result"
    }
   ],
   "source": [
    "test_df.head()"
   ]
  },
  {
   "cell_type": "code",
   "execution_count": 48,
   "metadata": {
    "execution": {
     "iopub.execute_input": "2023-01-27T14:40:24.714052Z",
     "iopub.status.busy": "2023-01-27T14:40:24.713596Z",
     "iopub.status.idle": "2023-01-27T14:40:24.725105Z",
     "shell.execute_reply": "2023-01-27T14:40:24.724163Z",
     "shell.execute_reply.started": "2023-01-27T14:40:24.714005Z"
    }
   },
   "outputs": [],
   "source": [
    "# Merging SibSp and Parch columns in a single column naming 'Family' with adding additional 1 for avoiding null values\n",
    "train_df[\"Family\"] = train_df[\"SibSp\"] + train_df[\"Parch\"] + 1\n",
    "test_df[\"Family\"] = test_df[\"SibSp\"] + test_df[\"Parch\"] + 1\n",
    "for data in full_data:\n",
    "    data.drop(columns = [\"SibSp\",\"Parch\"],inplace =True)"
   ]
  },
  {
   "cell_type": "code",
   "execution_count": 49,
   "metadata": {
    "execution": {
     "iopub.execute_input": "2023-01-27T14:40:24.727687Z",
     "iopub.status.busy": "2023-01-27T14:40:24.726577Z",
     "iopub.status.idle": "2023-01-27T14:40:24.734357Z",
     "shell.execute_reply": "2023-01-27T14:40:24.733466Z",
     "shell.execute_reply.started": "2023-01-27T14:40:24.727648Z"
    }
   },
   "outputs": [],
   "source": [
    "# Bfill imputation\n",
    "#fbfill_imputation = train_df.fillna(method='bfill')"
   ]
  },
  {
   "cell_type": "code",
   "execution_count": 50,
   "metadata": {
    "execution": {
     "iopub.execute_input": "2023-01-27T14:40:24.736392Z",
     "iopub.status.busy": "2023-01-27T14:40:24.735466Z",
     "iopub.status.idle": "2023-01-27T14:40:24.751356Z",
     "shell.execute_reply": "2023-01-27T14:40:24.750199Z",
     "shell.execute_reply.started": "2023-01-27T14:40:24.736358Z"
    }
   },
   "outputs": [
    {
     "data": {
      "text/plain": [
       "Survived    0\n",
       "Pclass      0\n",
       "Sex         0\n",
       "Age         0\n",
       "Fare        0\n",
       "Cabin       0\n",
       "Prefix      0\n",
       "C           0\n",
       "Q           0\n",
       "S           0\n",
       "Family      0\n",
       "dtype: int64"
      ]
     },
     "execution_count": 50,
     "metadata": {},
     "output_type": "execute_result"
    }
   ],
   "source": [
    "train_df.isna().sum()"
   ]
  },
  {
   "cell_type": "code",
   "execution_count": 51,
   "metadata": {
    "execution": {
     "iopub.execute_input": "2023-01-27T14:40:24.753110Z",
     "iopub.status.busy": "2023-01-27T14:40:24.752515Z",
     "iopub.status.idle": "2023-01-27T14:40:24.763760Z",
     "shell.execute_reply": "2023-01-27T14:40:24.762815Z",
     "shell.execute_reply.started": "2023-01-27T14:40:24.753074Z"
    }
   },
   "outputs": [
    {
     "data": {
      "text/plain": [
       "Pclass    0\n",
       "Sex       0\n",
       "Age       0\n",
       "Fare      1\n",
       "Cabin     0\n",
       "Prefix    1\n",
       "C         0\n",
       "Q         0\n",
       "S         0\n",
       "Family    0\n",
       "dtype: int64"
      ]
     },
     "execution_count": 51,
     "metadata": {},
     "output_type": "execute_result"
    }
   ],
   "source": [
    "test_df.isna().sum()"
   ]
  },
  {
   "cell_type": "code",
   "execution_count": 52,
   "metadata": {
    "execution": {
     "iopub.execute_input": "2023-01-27T14:40:24.765954Z",
     "iopub.status.busy": "2023-01-27T14:40:24.764947Z",
     "iopub.status.idle": "2023-01-27T14:40:24.773488Z",
     "shell.execute_reply": "2023-01-27T14:40:24.772340Z",
     "shell.execute_reply.started": "2023-01-27T14:40:24.765905Z"
    }
   },
   "outputs": [],
   "source": [
    "# Ffill imputation for filling text missing data (Cabin Column)\n",
    "test_df['Fare'] = test_df['Fare'].fillna(method='ffill')\n",
    "test_df['Prefix'] = test_df['Prefix'].fillna(method='ffill')"
   ]
  },
  {
   "cell_type": "code",
   "execution_count": 53,
   "metadata": {
    "execution": {
     "iopub.execute_input": "2023-01-27T14:40:24.775303Z",
     "iopub.status.busy": "2023-01-27T14:40:24.774931Z",
     "iopub.status.idle": "2023-01-27T14:40:24.790056Z",
     "shell.execute_reply": "2023-01-27T14:40:24.788892Z",
     "shell.execute_reply.started": "2023-01-27T14:40:24.775271Z"
    }
   },
   "outputs": [
    {
     "data": {
      "text/plain": [
       "Pclass    0\n",
       "Sex       0\n",
       "Age       0\n",
       "Fare      0\n",
       "Cabin     0\n",
       "Prefix    0\n",
       "C         0\n",
       "Q         0\n",
       "S         0\n",
       "Family    0\n",
       "dtype: int64"
      ]
     },
     "execution_count": 53,
     "metadata": {},
     "output_type": "execute_result"
    }
   ],
   "source": [
    "test_df.isna().sum()"
   ]
  },
  {
   "cell_type": "markdown",
   "metadata": {},
   "source": [
    "# Classification Tasks"
   ]
  },
  {
   "cell_type": "code",
   "execution_count": 54,
   "metadata": {
    "execution": {
     "iopub.execute_input": "2023-01-27T14:40:24.792506Z",
     "iopub.status.busy": "2023-01-27T14:40:24.791535Z",
     "iopub.status.idle": "2023-01-27T14:40:24.798623Z",
     "shell.execute_reply": "2023-01-27T14:40:24.797573Z",
     "shell.execute_reply.started": "2023-01-27T14:40:24.792470Z"
    }
   },
   "outputs": [],
   "source": [
    "# Importing Necessary Machine Learning Libraries\n",
    "from sklearn.preprocessing import StandardScaler\n",
    "from sklearn.model_selection import train_test_split\n",
    "from sklearn.neighbors import KNeighborsClassifier\n",
    "from sklearn.metrics import accuracy_score\n",
    "from sklearn.tree import DecisionTreeClassifier\n",
    "from sklearn.ensemble import RandomForestClassifier\n",
    "from sklearn.svm import SVC\n",
    "from sklearn.linear_model import LogisticRegression"
   ]
  },
  {
   "cell_type": "code",
   "execution_count": 55,
   "metadata": {
    "execution": {
     "iopub.execute_input": "2023-01-27T14:40:24.800991Z",
     "iopub.status.busy": "2023-01-27T14:40:24.800339Z",
     "iopub.status.idle": "2023-01-27T14:40:24.813761Z",
     "shell.execute_reply": "2023-01-27T14:40:24.812702Z",
     "shell.execute_reply.started": "2023-01-27T14:40:24.800940Z"
    }
   },
   "outputs": [],
   "source": [
    "# Splitting both datasets with necessary columns\n",
    "X_trainee = train_df[[\"Pclass\",\"Sex\",\"Age\",\"Fare\",\"Cabin\",\"Prefix\",\"C\",\"Q\",\"S\",\"Family\"]]\n",
    "Y = train_df[[\"Survived\"]]\n",
    "X_testiee = test_df[[\"Pclass\",\"Sex\",\"Age\",\"Fare\",\"Cabin\",\"Prefix\",\"C\",\"Q\",\"S\",\"Family\"]]"
   ]
  },
  {
   "cell_type": "code",
   "execution_count": 56,
   "metadata": {
    "execution": {
     "iopub.execute_input": "2023-01-27T14:40:24.815402Z",
     "iopub.status.busy": "2023-01-27T14:40:24.815063Z",
     "iopub.status.idle": "2023-01-27T14:40:24.832585Z",
     "shell.execute_reply": "2023-01-27T14:40:24.831008Z",
     "shell.execute_reply.started": "2023-01-27T14:40:24.815373Z"
    }
   },
   "outputs": [
    {
     "name": "stdout",
     "output_type": "stream",
     "text": [
      "<class 'pandas.core.frame.DataFrame'>\n",
      "RangeIndex: 891 entries, 0 to 890\n",
      "Data columns (total 10 columns):\n",
      " #   Column  Non-Null Count  Dtype  \n",
      "---  ------  --------------  -----  \n",
      " 0   Pclass  891 non-null    int64  \n",
      " 1   Sex     891 non-null    uint8  \n",
      " 2   Age     891 non-null    float64\n",
      " 3   Fare    891 non-null    float64\n",
      " 4   Cabin   891 non-null    object \n",
      " 5   Prefix  891 non-null    int64  \n",
      " 6   C       891 non-null    uint8  \n",
      " 7   Q       891 non-null    uint8  \n",
      " 8   S       891 non-null    uint8  \n",
      " 9   Family  891 non-null    int64  \n",
      "dtypes: float64(2), int64(3), object(1), uint8(4)\n",
      "memory usage: 45.4+ KB\n"
     ]
    }
   ],
   "source": [
    "X_trainee.info()"
   ]
  },
  {
   "cell_type": "code",
   "execution_count": 57,
   "metadata": {
    "execution": {
     "iopub.execute_input": "2023-01-27T14:40:24.834711Z",
     "iopub.status.busy": "2023-01-27T14:40:24.833951Z",
     "iopub.status.idle": "2023-01-27T14:40:24.846072Z",
     "shell.execute_reply": "2023-01-27T14:40:24.844920Z",
     "shell.execute_reply.started": "2023-01-27T14:40:24.834673Z"
    }
   },
   "outputs": [
    {
     "name": "stdout",
     "output_type": "stream",
     "text": [
      "<class 'pandas.core.frame.DataFrame'>\n",
      "RangeIndex: 891 entries, 0 to 890\n",
      "Data columns (total 1 columns):\n",
      " #   Column    Non-Null Count  Dtype\n",
      "---  ------    --------------  -----\n",
      " 0   Survived  891 non-null    int64\n",
      "dtypes: int64(1)\n",
      "memory usage: 7.1 KB\n"
     ]
    }
   ],
   "source": [
    "Y.info()"
   ]
  },
  {
   "cell_type": "code",
   "execution_count": 58,
   "metadata": {
    "execution": {
     "iopub.execute_input": "2023-01-27T14:40:24.847801Z",
     "iopub.status.busy": "2023-01-27T14:40:24.847360Z",
     "iopub.status.idle": "2023-01-27T14:40:24.865427Z",
     "shell.execute_reply": "2023-01-27T14:40:24.864363Z",
     "shell.execute_reply.started": "2023-01-27T14:40:24.847758Z"
    }
   },
   "outputs": [],
   "source": [
    "# Standardisation of the Data\n",
    "sc = StandardScaler()\n",
    "X_trainee = sc.fit_transform(X_trainee)\n",
    "X_testiee =  sc.transform(X_testiee)"
   ]
  },
  {
   "cell_type": "code",
   "execution_count": 59,
   "metadata": {
    "execution": {
     "iopub.execute_input": "2023-01-27T14:40:24.867340Z",
     "iopub.status.busy": "2023-01-27T14:40:24.866692Z",
     "iopub.status.idle": "2023-01-27T14:40:24.877556Z",
     "shell.execute_reply": "2023-01-27T14:40:24.876351Z",
     "shell.execute_reply.started": "2023-01-27T14:40:24.867300Z"
    }
   },
   "outputs": [],
   "source": [
    "# Splitting datasets into training and testing datasets\n",
    "X_train, X_test, y_train, y_test = train_test_split(X_trainee,Y,test_size = 0.2, random_state=1)"
   ]
  },
  {
   "cell_type": "code",
   "execution_count": 60,
   "metadata": {
    "execution": {
     "iopub.execute_input": "2023-01-27T14:40:24.879514Z",
     "iopub.status.busy": "2023-01-27T14:40:24.878880Z",
     "iopub.status.idle": "2023-01-27T14:40:25.086334Z",
     "shell.execute_reply": "2023-01-27T14:40:25.085452Z",
     "shell.execute_reply.started": "2023-01-27T14:40:24.879478Z"
    }
   },
   "outputs": [
    {
     "name": "stdout",
     "output_type": "stream",
     "text": [
      "For k =  1  :  0.7206703910614525\n",
      "For k =  2  :  0.7541899441340782\n",
      "For k =  3  :  0.7821229050279329\n",
      "For k =  4  :  0.7653631284916201\n",
      "For k =  5  :  0.7430167597765364\n",
      "For k =  6  :  0.770949720670391\n",
      "For k =  7  :  0.7653631284916201\n",
      "For k =  8  :  0.770949720670391\n",
      "For k =  9  :  0.770949720670391\n",
      "For k =  10  :  0.776536312849162\n",
      "For k =  11  :  0.7821229050279329\n",
      "For k =  12  :  0.770949720670391\n",
      "For k =  13  :  0.7821229050279329\n",
      "For k =  14  :  0.770949720670391\n",
      "For k =  15  :  0.7877094972067039\n",
      "For k =  16  :  0.776536312849162\n",
      "For k =  17  :  0.770949720670391\n",
      "For k =  18  :  0.770949720670391\n",
      "For k =  19  :  0.7653631284916201\n"
     ]
    },
    {
     "name": "stderr",
     "output_type": "stream",
     "text": [
      "C:\\Users\\Shibli\\anaconda3\\lib\\site-packages\\sklearn\\neighbors\\_classification.py:228: FutureWarning: Unlike other reduction functions (e.g. `skew`, `kurtosis`), the default behavior of `mode` typically preserves the axis it acts along. In SciPy 1.11.0, this behavior will change: the default value of `keepdims` will become False, the `axis` over which the statistic is taken will be eliminated, and the value None will no longer be accepted. Set `keepdims` to True or False to avoid this warning.\n",
      "  mode, _ = stats.mode(_y[neigh_ind, k], axis=1)\n",
      "C:\\Users\\Shibli\\anaconda3\\lib\\site-packages\\sklearn\\neighbors\\_classification.py:228: FutureWarning: Unlike other reduction functions (e.g. `skew`, `kurtosis`), the default behavior of `mode` typically preserves the axis it acts along. In SciPy 1.11.0, this behavior will change: the default value of `keepdims` will become False, the `axis` over which the statistic is taken will be eliminated, and the value None will no longer be accepted. Set `keepdims` to True or False to avoid this warning.\n",
      "  mode, _ = stats.mode(_y[neigh_ind, k], axis=1)\n",
      "C:\\Users\\Shibli\\anaconda3\\lib\\site-packages\\sklearn\\neighbors\\_classification.py:228: FutureWarning: Unlike other reduction functions (e.g. `skew`, `kurtosis`), the default behavior of `mode` typically preserves the axis it acts along. In SciPy 1.11.0, this behavior will change: the default value of `keepdims` will become False, the `axis` over which the statistic is taken will be eliminated, and the value None will no longer be accepted. Set `keepdims` to True or False to avoid this warning.\n",
      "  mode, _ = stats.mode(_y[neigh_ind, k], axis=1)\n",
      "C:\\Users\\Shibli\\anaconda3\\lib\\site-packages\\sklearn\\neighbors\\_classification.py:228: FutureWarning: Unlike other reduction functions (e.g. `skew`, `kurtosis`), the default behavior of `mode` typically preserves the axis it acts along. In SciPy 1.11.0, this behavior will change: the default value of `keepdims` will become False, the `axis` over which the statistic is taken will be eliminated, and the value None will no longer be accepted. Set `keepdims` to True or False to avoid this warning.\n",
      "  mode, _ = stats.mode(_y[neigh_ind, k], axis=1)\n",
      "C:\\Users\\Shibli\\anaconda3\\lib\\site-packages\\sklearn\\neighbors\\_classification.py:228: FutureWarning: Unlike other reduction functions (e.g. `skew`, `kurtosis`), the default behavior of `mode` typically preserves the axis it acts along. In SciPy 1.11.0, this behavior will change: the default value of `keepdims` will become False, the `axis` over which the statistic is taken will be eliminated, and the value None will no longer be accepted. Set `keepdims` to True or False to avoid this warning.\n",
      "  mode, _ = stats.mode(_y[neigh_ind, k], axis=1)\n",
      "C:\\Users\\Shibli\\anaconda3\\lib\\site-packages\\sklearn\\neighbors\\_classification.py:228: FutureWarning: Unlike other reduction functions (e.g. `skew`, `kurtosis`), the default behavior of `mode` typically preserves the axis it acts along. In SciPy 1.11.0, this behavior will change: the default value of `keepdims` will become False, the `axis` over which the statistic is taken will be eliminated, and the value None will no longer be accepted. Set `keepdims` to True or False to avoid this warning.\n",
      "  mode, _ = stats.mode(_y[neigh_ind, k], axis=1)\n",
      "C:\\Users\\Shibli\\anaconda3\\lib\\site-packages\\sklearn\\neighbors\\_classification.py:228: FutureWarning: Unlike other reduction functions (e.g. `skew`, `kurtosis`), the default behavior of `mode` typically preserves the axis it acts along. In SciPy 1.11.0, this behavior will change: the default value of `keepdims` will become False, the `axis` over which the statistic is taken will be eliminated, and the value None will no longer be accepted. Set `keepdims` to True or False to avoid this warning.\n",
      "  mode, _ = stats.mode(_y[neigh_ind, k], axis=1)\n",
      "C:\\Users\\Shibli\\anaconda3\\lib\\site-packages\\sklearn\\neighbors\\_classification.py:228: FutureWarning: Unlike other reduction functions (e.g. `skew`, `kurtosis`), the default behavior of `mode` typically preserves the axis it acts along. In SciPy 1.11.0, this behavior will change: the default value of `keepdims` will become False, the `axis` over which the statistic is taken will be eliminated, and the value None will no longer be accepted. Set `keepdims` to True or False to avoid this warning.\n",
      "  mode, _ = stats.mode(_y[neigh_ind, k], axis=1)\n",
      "C:\\Users\\Shibli\\anaconda3\\lib\\site-packages\\sklearn\\neighbors\\_classification.py:228: FutureWarning: Unlike other reduction functions (e.g. `skew`, `kurtosis`), the default behavior of `mode` typically preserves the axis it acts along. In SciPy 1.11.0, this behavior will change: the default value of `keepdims` will become False, the `axis` over which the statistic is taken will be eliminated, and the value None will no longer be accepted. Set `keepdims` to True or False to avoid this warning.\n",
      "  mode, _ = stats.mode(_y[neigh_ind, k], axis=1)\n",
      "C:\\Users\\Shibli\\anaconda3\\lib\\site-packages\\sklearn\\neighbors\\_classification.py:228: FutureWarning: Unlike other reduction functions (e.g. `skew`, `kurtosis`), the default behavior of `mode` typically preserves the axis it acts along. In SciPy 1.11.0, this behavior will change: the default value of `keepdims` will become False, the `axis` over which the statistic is taken will be eliminated, and the value None will no longer be accepted. Set `keepdims` to True or False to avoid this warning.\n",
      "  mode, _ = stats.mode(_y[neigh_ind, k], axis=1)\n",
      "C:\\Users\\Shibli\\anaconda3\\lib\\site-packages\\sklearn\\neighbors\\_classification.py:228: FutureWarning: Unlike other reduction functions (e.g. `skew`, `kurtosis`), the default behavior of `mode` typically preserves the axis it acts along. In SciPy 1.11.0, this behavior will change: the default value of `keepdims` will become False, the `axis` over which the statistic is taken will be eliminated, and the value None will no longer be accepted. Set `keepdims` to True or False to avoid this warning.\n",
      "  mode, _ = stats.mode(_y[neigh_ind, k], axis=1)\n",
      "C:\\Users\\Shibli\\anaconda3\\lib\\site-packages\\sklearn\\neighbors\\_classification.py:228: FutureWarning: Unlike other reduction functions (e.g. `skew`, `kurtosis`), the default behavior of `mode` typically preserves the axis it acts along. In SciPy 1.11.0, this behavior will change: the default value of `keepdims` will become False, the `axis` over which the statistic is taken will be eliminated, and the value None will no longer be accepted. Set `keepdims` to True or False to avoid this warning.\n",
      "  mode, _ = stats.mode(_y[neigh_ind, k], axis=1)\n",
      "C:\\Users\\Shibli\\anaconda3\\lib\\site-packages\\sklearn\\neighbors\\_classification.py:228: FutureWarning: Unlike other reduction functions (e.g. `skew`, `kurtosis`), the default behavior of `mode` typically preserves the axis it acts along. In SciPy 1.11.0, this behavior will change: the default value of `keepdims` will become False, the `axis` over which the statistic is taken will be eliminated, and the value None will no longer be accepted. Set `keepdims` to True or False to avoid this warning.\n",
      "  mode, _ = stats.mode(_y[neigh_ind, k], axis=1)\n",
      "C:\\Users\\Shibli\\anaconda3\\lib\\site-packages\\sklearn\\neighbors\\_classification.py:228: FutureWarning: Unlike other reduction functions (e.g. `skew`, `kurtosis`), the default behavior of `mode` typically preserves the axis it acts along. In SciPy 1.11.0, this behavior will change: the default value of `keepdims` will become False, the `axis` over which the statistic is taken will be eliminated, and the value None will no longer be accepted. Set `keepdims` to True or False to avoid this warning.\n",
      "  mode, _ = stats.mode(_y[neigh_ind, k], axis=1)\n",
      "C:\\Users\\Shibli\\anaconda3\\lib\\site-packages\\sklearn\\neighbors\\_classification.py:228: FutureWarning: Unlike other reduction functions (e.g. `skew`, `kurtosis`), the default behavior of `mode` typically preserves the axis it acts along. In SciPy 1.11.0, this behavior will change: the default value of `keepdims` will become False, the `axis` over which the statistic is taken will be eliminated, and the value None will no longer be accepted. Set `keepdims` to True or False to avoid this warning.\n",
      "  mode, _ = stats.mode(_y[neigh_ind, k], axis=1)\n",
      "C:\\Users\\Shibli\\anaconda3\\lib\\site-packages\\sklearn\\neighbors\\_classification.py:228: FutureWarning: Unlike other reduction functions (e.g. `skew`, `kurtosis`), the default behavior of `mode` typically preserves the axis it acts along. In SciPy 1.11.0, this behavior will change: the default value of `keepdims` will become False, the `axis` over which the statistic is taken will be eliminated, and the value None will no longer be accepted. Set `keepdims` to True or False to avoid this warning.\n",
      "  mode, _ = stats.mode(_y[neigh_ind, k], axis=1)\n",
      "C:\\Users\\Shibli\\anaconda3\\lib\\site-packages\\sklearn\\neighbors\\_classification.py:228: FutureWarning: Unlike other reduction functions (e.g. `skew`, `kurtosis`), the default behavior of `mode` typically preserves the axis it acts along. In SciPy 1.11.0, this behavior will change: the default value of `keepdims` will become False, the `axis` over which the statistic is taken will be eliminated, and the value None will no longer be accepted. Set `keepdims` to True or False to avoid this warning.\n",
      "  mode, _ = stats.mode(_y[neigh_ind, k], axis=1)\n",
      "C:\\Users\\Shibli\\anaconda3\\lib\\site-packages\\sklearn\\neighbors\\_classification.py:228: FutureWarning: Unlike other reduction functions (e.g. `skew`, `kurtosis`), the default behavior of `mode` typically preserves the axis it acts along. In SciPy 1.11.0, this behavior will change: the default value of `keepdims` will become False, the `axis` over which the statistic is taken will be eliminated, and the value None will no longer be accepted. Set `keepdims` to True or False to avoid this warning.\n",
      "  mode, _ = stats.mode(_y[neigh_ind, k], axis=1)\n",
      "C:\\Users\\Shibli\\anaconda3\\lib\\site-packages\\sklearn\\neighbors\\_classification.py:228: FutureWarning: Unlike other reduction functions (e.g. `skew`, `kurtosis`), the default behavior of `mode` typically preserves the axis it acts along. In SciPy 1.11.0, this behavior will change: the default value of `keepdims` will become False, the `axis` over which the statistic is taken will be eliminated, and the value None will no longer be accepted. Set `keepdims` to True or False to avoid this warning.\n",
      "  mode, _ = stats.mode(_y[neigh_ind, k], axis=1)\n"
     ]
    }
   ],
   "source": [
    "# Classification using KNN (77% Accuracy Gained)\n",
    "acc = []\n",
    "\n",
    "for i in range(1,20):\n",
    "    knn = KNeighborsClassifier(n_neighbors = i)\n",
    "    knn.fit(X_train,y_train.values.ravel())\n",
    "    yhat = knn.predict(X_test)\n",
    "    acc.append(accuracy_score(y_test,yhat))\n",
    "    print(\"For k = \",i,\" : \",accuracy_score(y_test,yhat))"
   ]
  },
  {
   "cell_type": "code",
   "execution_count": 61,
   "metadata": {
    "execution": {
     "iopub.execute_input": "2023-01-27T14:40:25.088091Z",
     "iopub.status.busy": "2023-01-27T14:40:25.087739Z",
     "iopub.status.idle": "2023-01-27T14:40:25.436282Z",
     "shell.execute_reply": "2023-01-27T14:40:25.435323Z",
     "shell.execute_reply.started": "2023-01-27T14:40:25.088058Z"
    }
   },
   "outputs": [
    {
     "data": {
      "image/png": "[encoded data removed]",
      "text/plain": [
       "<Figure size 800x600 with 1 Axes>"
      ]
     },
     "metadata": {},
     "output_type": "display_data"
    }
   ],
   "source": [
    "# visualisig a line graph to find out which k value gives the best accuracy (15 is the desired K value here)\n",
    "plt.figure(figsize=(8,6))\n",
    "plt.plot(range(1,20),acc, marker = \"o\")\n",
    "plt.xlabel(\"Value of k\")\n",
    "plt.ylabel(\"Accuracy Score\")\n",
    "plt.title(\"Finding the right k\")\n",
    "plt.xticks(range(1,20))\n",
    "plt.show()"
   ]
  },
  {
   "cell_type": "code",
   "execution_count": 62,
   "metadata": {
    "execution": {
     "iopub.execute_input": "2023-01-27T14:40:25.438063Z",
     "iopub.status.busy": "2023-01-27T14:40:25.437701Z",
     "iopub.status.idle": "2023-01-27T14:40:25.486124Z",
     "shell.execute_reply": "2023-01-27T14:40:25.485001Z",
     "shell.execute_reply.started": "2023-01-27T14:40:25.438028Z"
    }
   },
   "outputs": [
    {
     "name": "stderr",
     "output_type": "stream",
     "text": [
      "C:\\Users\\Shibli\\anaconda3\\lib\\site-packages\\sklearn\\neighbors\\_classification.py:228: FutureWarning: Unlike other reduction functions (e.g. `skew`, `kurtosis`), the default behavior of `mode` typically preserves the axis it acts along. In SciPy 1.11.0, this behavior will change: the default value of `keepdims` will become False, the `axis` over which the statistic is taken will be eliminated, and the value None will no longer be accepted. Set `keepdims` to True or False to avoid this warning.\n",
      "  mode, _ = stats.mode(_y[neigh_ind, k], axis=1)\n"
     ]
    },
    {
     "data": {
      "text/html": [
       "<div>\n",
       "<style scoped>\n",
       "    .dataframe tbody tr th:only-of-type {\n",
       "        vertical-align: middle;\n",
       "    }\n",
       "\n",
       "    .dataframe tbody tr th {\n",
       "        vertical-align: top;\n",
       "    }\n",
       "\n",
       "    .dataframe thead th {\n",
       "        text-align: right;\n",
       "    }\n",
       "</style>\n",
       "<table border=\"1\" class=\"dataframe\">\n",
       "  <thead>\n",
       "    <tr style=\"text-align: right;\">\n",
       "      <th></th>\n",
       "      <th>PassengerId</th>\n",
       "      <th>Survived</th>\n",
       "    </tr>\n",
       "  </thead>\n",
       "  <tbody>\n",
       "    <tr>\n",
       "      <th>0</th>\n",
       "      <td>892</td>\n",
       "      <td>0</td>\n",
       "    </tr>\n",
       "    <tr>\n",
       "      <th>1</th>\n",
       "      <td>893</td>\n",
       "      <td>1</td>\n",
       "    </tr>\n",
       "    <tr>\n",
       "      <th>2</th>\n",
       "      <td>894</td>\n",
       "      <td>0</td>\n",
       "    </tr>\n",
       "    <tr>\n",
       "      <th>3</th>\n",
       "      <td>895</td>\n",
       "      <td>0</td>\n",
       "    </tr>\n",
       "    <tr>\n",
       "      <th>4</th>\n",
       "      <td>896</td>\n",
       "      <td>1</td>\n",
       "    </tr>\n",
       "    <tr>\n",
       "      <th>5</th>\n",
       "      <td>897</td>\n",
       "      <td>0</td>\n",
       "    </tr>\n",
       "    <tr>\n",
       "      <th>6</th>\n",
       "      <td>898</td>\n",
       "      <td>1</td>\n",
       "    </tr>\n",
       "    <tr>\n",
       "      <th>7</th>\n",
       "      <td>899</td>\n",
       "      <td>0</td>\n",
       "    </tr>\n",
       "    <tr>\n",
       "      <th>8</th>\n",
       "      <td>900</td>\n",
       "      <td>1</td>\n",
       "    </tr>\n",
       "    <tr>\n",
       "      <th>9</th>\n",
       "      <td>901</td>\n",
       "      <td>0</td>\n",
       "    </tr>\n",
       "  </tbody>\n",
       "</table>\n",
       "</div>"
      ],
      "text/plain": [
       "   PassengerId  Survived\n",
       "0          892         0\n",
       "1          893         1\n",
       "2          894         0\n",
       "3          895         0\n",
       "4          896         1\n",
       "5          897         0\n",
       "6          898         1\n",
       "7          899         0\n",
       "8          900         1\n",
       "9          901         0"
      ]
     },
     "execution_count": 62,
     "metadata": {},
     "output_type": "execute_result"
    }
   ],
   "source": [
    "# Validating model with the testing dataset and storing as Kaggle Competition's Format\n",
    "KNN = KNeighborsClassifier(n_neighbors = 15)\n",
    "KNN.fit(X_trainee,Y.values.ravel())\n",
    "y_pred = KNN.predict(X_testiee)\n",
    "df_KNN = pd.DataFrame()\n",
    "df_KNN[\"PassengerId\"] = test2[\"PassengerId\"]\n",
    "df_KNN[\"Survived\"] = y_pred\n",
    "df_KNN.head(10)"
   ]
  },
  {
   "cell_type": "code",
   "execution_count": 63,
   "metadata": {
    "execution": {
     "iopub.execute_input": "2023-01-27T14:40:25.488101Z",
     "iopub.status.busy": "2023-01-27T14:40:25.487678Z",
     "iopub.status.idle": "2023-01-27T14:40:25.521760Z",
     "shell.execute_reply": "2023-01-27T14:40:25.520647Z",
     "shell.execute_reply.started": "2023-01-27T14:40:25.488066Z"
    }
   },
   "outputs": [
    {
     "name": "stdout",
     "output_type": "stream",
     "text": [
      "For max depth =  1  :  0.776536312849162\n",
      "For max depth =  2  :  0.7206703910614525\n",
      "For max depth =  3  :  0.8044692737430168\n",
      "For max depth =  4  :  0.7988826815642458\n",
      "For max depth =  5  :  0.8044692737430168\n",
      "For max depth =  6  :  0.770949720670391\n",
      "For max depth =  7  :  0.7486033519553073\n"
     ]
    }
   ],
   "source": [
    "# Classification using Decision Tree (75% Accuracy Gained)\n",
    "depth = []\n",
    "\n",
    "for i in range(1,8):\n",
    "    clf_tree = DecisionTreeClassifier(criterion=\"entropy\", random_state=100, max_depth=i)\n",
    "    clf_tree.fit(X_train, y_train)\n",
    "    yhat = clf_tree.predict(X_test)\n",
    "    depth.append(accuracy_score(y_test,yhat))\n",
    "    print(\"For max depth = \",i, \" : \",accuracy_score(y_test,yhat))"
   ]
  },
  {
   "cell_type": "code",
   "execution_count": 64,
   "metadata": {
    "execution": {
     "iopub.execute_input": "2023-01-27T14:40:25.523429Z",
     "iopub.status.busy": "2023-01-27T14:40:25.523067Z",
     "iopub.status.idle": "2023-01-27T14:40:25.773993Z",
     "shell.execute_reply": "2023-01-27T14:40:25.772651Z",
     "shell.execute_reply.started": "2023-01-27T14:40:25.523398Z"
    }
   },
   "outputs": [
    {
     "data": {
      "image/png": "[encoded data removed]",
      "text/plain": [
       "<Figure size 800x600 with 1 Axes>"
      ]
     },
     "metadata": {},
     "output_type": "display_data"
    }
   ],
   "source": [
    "# visualisig a line graph to find out which depth value gives the best accuracy [3 and 5 are the desired depth here]\n",
    "plt.figure(figsize=(8,6))\n",
    "plt.plot(range(1,8),depth,color=\"red\", marker = \"o\")\n",
    "plt.xlabel(\"Depth of Tree\")\n",
    "plt.ylabel(\"Accuracy Score\")\n",
    "plt.title(\"Finding the right depth with highest accuracy\")\n",
    "plt.xticks(range(1,8))\n",
    "plt.show()"
   ]
  },
  {
   "cell_type": "code",
   "execution_count": 65,
   "metadata": {
    "execution": {
     "iopub.execute_input": "2023-01-27T14:40:25.775549Z",
     "iopub.status.busy": "2023-01-27T14:40:25.775229Z",
     "iopub.status.idle": "2023-01-27T14:40:25.794563Z",
     "shell.execute_reply": "2023-01-27T14:40:25.793466Z",
     "shell.execute_reply.started": "2023-01-27T14:40:25.775518Z"
    }
   },
   "outputs": [
    {
     "data": {
      "text/html": [
       "<div>\n",
       "<style scoped>\n",
       "    .dataframe tbody tr th:only-of-type {\n",
       "        vertical-align: middle;\n",
       "    }\n",
       "\n",
       "    .dataframe tbody tr th {\n",
       "        vertical-align: top;\n",
       "    }\n",
       "\n",
       "    .dataframe thead th {\n",
       "        text-align: right;\n",
       "    }\n",
       "</style>\n",
       "<table border=\"1\" class=\"dataframe\">\n",
       "  <thead>\n",
       "    <tr style=\"text-align: right;\">\n",
       "      <th></th>\n",
       "      <th>PassengerId</th>\n",
       "      <th>Survived</th>\n",
       "    </tr>\n",
       "  </thead>\n",
       "  <tbody>\n",
       "    <tr>\n",
       "      <th>0</th>\n",
       "      <td>892</td>\n",
       "      <td>0</td>\n",
       "    </tr>\n",
       "    <tr>\n",
       "      <th>1</th>\n",
       "      <td>893</td>\n",
       "      <td>1</td>\n",
       "    </tr>\n",
       "    <tr>\n",
       "      <th>2</th>\n",
       "      <td>894</td>\n",
       "      <td>0</td>\n",
       "    </tr>\n",
       "    <tr>\n",
       "      <th>3</th>\n",
       "      <td>895</td>\n",
       "      <td>0</td>\n",
       "    </tr>\n",
       "    <tr>\n",
       "      <th>4</th>\n",
       "      <td>896</td>\n",
       "      <td>1</td>\n",
       "    </tr>\n",
       "    <tr>\n",
       "      <th>5</th>\n",
       "      <td>897</td>\n",
       "      <td>0</td>\n",
       "    </tr>\n",
       "    <tr>\n",
       "      <th>6</th>\n",
       "      <td>898</td>\n",
       "      <td>1</td>\n",
       "    </tr>\n",
       "    <tr>\n",
       "      <th>7</th>\n",
       "      <td>899</td>\n",
       "      <td>0</td>\n",
       "    </tr>\n",
       "    <tr>\n",
       "      <th>8</th>\n",
       "      <td>900</td>\n",
       "      <td>1</td>\n",
       "    </tr>\n",
       "    <tr>\n",
       "      <th>9</th>\n",
       "      <td>901</td>\n",
       "      <td>0</td>\n",
       "    </tr>\n",
       "  </tbody>\n",
       "</table>\n",
       "</div>"
      ],
      "text/plain": [
       "   PassengerId  Survived\n",
       "0          892         0\n",
       "1          893         1\n",
       "2          894         0\n",
       "3          895         0\n",
       "4          896         1\n",
       "5          897         0\n",
       "6          898         1\n",
       "7          899         0\n",
       "8          900         1\n",
       "9          901         0"
      ]
     },
     "execution_count": 65,
     "metadata": {},
     "output_type": "execute_result"
    }
   ],
   "source": [
    "# Validating model with the testing dataset and storing as Kaggle Competition's Format\n",
    "clf_tr = DecisionTreeClassifier(criterion=\"entropy\", random_state = 100, max_depth = 3)\n",
    "clf_tr.fit(X_trainee,Y)\n",
    "pred_tree = clf_tr.predict(X_testiee)\n",
    "df_TREE = pd.DataFrame()\n",
    "df_TREE[\"PassengerId\"] = test2[\"PassengerId\"]\n",
    "df_TREE[\"Survived\"] = pred_tree\n",
    "df_TREE.head(10)"
   ]
  },
  {
   "cell_type": "code",
   "execution_count": 66,
   "metadata": {
    "execution": {
     "iopub.execute_input": "2023-01-27T14:40:25.798550Z",
     "iopub.status.busy": "2023-01-27T14:40:25.798189Z",
     "iopub.status.idle": "2023-01-27T14:40:26.012338Z",
     "shell.execute_reply": "2023-01-27T14:40:26.010993Z",
     "shell.execute_reply.started": "2023-01-27T14:40:25.798517Z"
    }
   },
   "outputs": [
    {
     "name": "stdout",
     "output_type": "stream",
     "text": [
      "Accuracy for training data :  0.7821229050279329\n"
     ]
    }
   ],
   "source": [
    "# Classification using Random Forest Classifier (78% Accuracy gained)\n",
    "\n",
    "clf_forest = RandomForestClassifier(random_state=0)\n",
    "clf_forest.fit(X_train,y_train.values.ravel())\n",
    "yhat = clf_forest.predict(X_test)\n",
    "print(\"Accuracy for training data : \",accuracy_score(y_test,yhat))"
   ]
  },
  {
   "cell_type": "code",
   "execution_count": 67,
   "metadata": {
    "execution": {
     "iopub.execute_input": "2023-01-27T14:40:26.014019Z",
     "iopub.status.busy": "2023-01-27T14:40:26.013675Z",
     "iopub.status.idle": "2023-01-27T14:40:26.257613Z",
     "shell.execute_reply": "2023-01-27T14:40:26.256644Z",
     "shell.execute_reply.started": "2023-01-27T14:40:26.013987Z"
    }
   },
   "outputs": [
    {
     "data": {
      "text/html": [
       "<div>\n",
       "<style scoped>\n",
       "    .dataframe tbody tr th:only-of-type {\n",
       "        vertical-align: middle;\n",
       "    }\n",
       "\n",
       "    .dataframe tbody tr th {\n",
       "        vertical-align: top;\n",
       "    }\n",
       "\n",
       "    .dataframe thead th {\n",
       "        text-align: right;\n",
       "    }\n",
       "</style>\n",
       "<table border=\"1\" class=\"dataframe\">\n",
       "  <thead>\n",
       "    <tr style=\"text-align: right;\">\n",
       "      <th></th>\n",
       "      <th>PassengerId</th>\n",
       "      <th>Survived</th>\n",
       "    </tr>\n",
       "  </thead>\n",
       "  <tbody>\n",
       "    <tr>\n",
       "      <th>0</th>\n",
       "      <td>892</td>\n",
       "      <td>0</td>\n",
       "    </tr>\n",
       "    <tr>\n",
       "      <th>1</th>\n",
       "      <td>893</td>\n",
       "      <td>0</td>\n",
       "    </tr>\n",
       "    <tr>\n",
       "      <th>2</th>\n",
       "      <td>894</td>\n",
       "      <td>0</td>\n",
       "    </tr>\n",
       "    <tr>\n",
       "      <th>3</th>\n",
       "      <td>895</td>\n",
       "      <td>0</td>\n",
       "    </tr>\n",
       "    <tr>\n",
       "      <th>4</th>\n",
       "      <td>896</td>\n",
       "      <td>1</td>\n",
       "    </tr>\n",
       "    <tr>\n",
       "      <th>5</th>\n",
       "      <td>897</td>\n",
       "      <td>0</td>\n",
       "    </tr>\n",
       "    <tr>\n",
       "      <th>6</th>\n",
       "      <td>898</td>\n",
       "      <td>0</td>\n",
       "    </tr>\n",
       "    <tr>\n",
       "      <th>7</th>\n",
       "      <td>899</td>\n",
       "      <td>0</td>\n",
       "    </tr>\n",
       "    <tr>\n",
       "      <th>8</th>\n",
       "      <td>900</td>\n",
       "      <td>1</td>\n",
       "    </tr>\n",
       "    <tr>\n",
       "      <th>9</th>\n",
       "      <td>901</td>\n",
       "      <td>0</td>\n",
       "    </tr>\n",
       "  </tbody>\n",
       "</table>\n",
       "</div>"
      ],
      "text/plain": [
       "   PassengerId  Survived\n",
       "0          892         0\n",
       "1          893         0\n",
       "2          894         0\n",
       "3          895         0\n",
       "4          896         1\n",
       "5          897         0\n",
       "6          898         0\n",
       "7          899         0\n",
       "8          900         1\n",
       "9          901         0"
      ]
     },
     "execution_count": 67,
     "metadata": {},
     "output_type": "execute_result"
    }
   ],
   "source": [
    "# Validating model with the testing dataset and storing as Kaggle Competition's Format\n",
    "clf_for = RandomForestClassifier(random_state=0)\n",
    "clf_for.fit(X_trainee,Y.values.ravel())\n",
    "y_forest = clf_for.predict(X_testiee)\n",
    "df_FOREST = pd.DataFrame()\n",
    "df_FOREST[\"PassengerId\"] = test2[\"PassengerId\"]\n",
    "df_FOREST[\"Survived\"] = y_forest\n",
    "df_FOREST.head(10)"
   ]
  },
  {
   "cell_type": "code",
   "execution_count": 68,
   "metadata": {
    "execution": {
     "iopub.execute_input": "2023-01-27T14:40:26.258838Z",
     "iopub.status.busy": "2023-01-27T14:40:26.258537Z",
     "iopub.status.idle": "2023-01-27T14:40:26.290105Z",
     "shell.execute_reply": "2023-01-27T14:40:26.288829Z",
     "shell.execute_reply.started": "2023-01-27T14:40:26.258810Z"
    }
   },
   "outputs": [
    {
     "name": "stdout",
     "output_type": "stream",
     "text": [
      "Accuracy for training data :  0.7877094972067039\n"
     ]
    }
   ],
   "source": [
    "# Classification using Support Vector Machine (79% Accuracy Gained)\n",
    "\n",
    "clf_svm = SVC(gamma='auto')\n",
    "clf_svm.fit(X_train, y_train.values.ravel())\n",
    "yhat = clf_svm.predict(X_test)\n",
    "print(\"Accuracy for training data : \",accuracy_score(y_test,yhat))"
   ]
  },
  {
   "cell_type": "code",
   "execution_count": 69,
   "metadata": {
    "execution": {
     "iopub.execute_input": "2023-01-27T14:40:26.292116Z",
     "iopub.status.busy": "2023-01-27T14:40:26.291745Z",
     "iopub.status.idle": "2023-01-27T14:40:26.343409Z",
     "shell.execute_reply": "2023-01-27T14:40:26.342573Z",
     "shell.execute_reply.started": "2023-01-27T14:40:26.292081Z"
    }
   },
   "outputs": [
    {
     "data": {
      "text/html": [
       "<div>\n",
       "<style scoped>\n",
       "    .dataframe tbody tr th:only-of-type {\n",
       "        vertical-align: middle;\n",
       "    }\n",
       "\n",
       "    .dataframe tbody tr th {\n",
       "        vertical-align: top;\n",
       "    }\n",
       "\n",
       "    .dataframe thead th {\n",
       "        text-align: right;\n",
       "    }\n",
       "</style>\n",
       "<table border=\"1\" class=\"dataframe\">\n",
       "  <thead>\n",
       "    <tr style=\"text-align: right;\">\n",
       "      <th></th>\n",
       "      <th>PassengerId</th>\n",
       "      <th>Survived</th>\n",
       "    </tr>\n",
       "  </thead>\n",
       "  <tbody>\n",
       "    <tr>\n",
       "      <th>0</th>\n",
       "      <td>892</td>\n",
       "      <td>0</td>\n",
       "    </tr>\n",
       "    <tr>\n",
       "      <th>1</th>\n",
       "      <td>893</td>\n",
       "      <td>0</td>\n",
       "    </tr>\n",
       "    <tr>\n",
       "      <th>2</th>\n",
       "      <td>894</td>\n",
       "      <td>0</td>\n",
       "    </tr>\n",
       "    <tr>\n",
       "      <th>3</th>\n",
       "      <td>895</td>\n",
       "      <td>0</td>\n",
       "    </tr>\n",
       "    <tr>\n",
       "      <th>4</th>\n",
       "      <td>896</td>\n",
       "      <td>0</td>\n",
       "    </tr>\n",
       "    <tr>\n",
       "      <th>5</th>\n",
       "      <td>897</td>\n",
       "      <td>0</td>\n",
       "    </tr>\n",
       "    <tr>\n",
       "      <th>6</th>\n",
       "      <td>898</td>\n",
       "      <td>1</td>\n",
       "    </tr>\n",
       "    <tr>\n",
       "      <th>7</th>\n",
       "      <td>899</td>\n",
       "      <td>0</td>\n",
       "    </tr>\n",
       "    <tr>\n",
       "      <th>8</th>\n",
       "      <td>900</td>\n",
       "      <td>1</td>\n",
       "    </tr>\n",
       "    <tr>\n",
       "      <th>9</th>\n",
       "      <td>901</td>\n",
       "      <td>0</td>\n",
       "    </tr>\n",
       "  </tbody>\n",
       "</table>\n",
       "</div>"
      ],
      "text/plain": [
       "   PassengerId  Survived\n",
       "0          892         0\n",
       "1          893         0\n",
       "2          894         0\n",
       "3          895         0\n",
       "4          896         0\n",
       "5          897         0\n",
       "6          898         1\n",
       "7          899         0\n",
       "8          900         1\n",
       "9          901         0"
      ]
     },
     "execution_count": 69,
     "metadata": {},
     "output_type": "execute_result"
    }
   ],
   "source": [
    "# Validating model with the testing dataset and storing as Kaggle Competition's Format\n",
    "clf_SVM = SVC(gamma='auto')\n",
    "clf_SVM.fit(X_trainee,Y.values.ravel())\n",
    "pred_svm = clf_SVM.predict(X_testiee)\n",
    "df_SVM = pd.DataFrame()\n",
    "df_SVM[\"PassengerId\"] = test2[\"PassengerId\"]\n",
    "df_SVM[\"Survived\"] = pred_svm\n",
    "df_SVM.head(10)"
   ]
  },
  {
   "cell_type": "code",
   "execution_count": 70,
   "metadata": {
    "execution": {
     "iopub.execute_input": "2023-01-27T14:40:26.344771Z",
     "iopub.status.busy": "2023-01-27T14:40:26.344410Z",
     "iopub.status.idle": "2023-01-27T14:40:26.356729Z",
     "shell.execute_reply": "2023-01-27T14:40:26.355511Z",
     "shell.execute_reply.started": "2023-01-27T14:40:26.344737Z"
    }
   },
   "outputs": [
    {
     "name": "stdout",
     "output_type": "stream",
     "text": [
      "Accuracy for training data :  0.7932960893854749\n"
     ]
    }
   ],
   "source": [
    "# Classification using Logistic Regression (79% Accuracy Gained)\n",
    "\n",
    "regr = LogisticRegression(solver='liblinear', random_state=1)\n",
    "regr.fit(X_train,y_train.values.ravel())\n",
    "yhat = regr.predict(X_test)\n",
    "print(\"Accuracy for training data : \",accuracy_score(y_test,yhat))"
   ]
  },
  {
   "cell_type": "code",
   "execution_count": 71,
   "metadata": {
    "execution": {
     "iopub.execute_input": "2023-01-27T14:40:26.358911Z",
     "iopub.status.busy": "2023-01-27T14:40:26.358446Z",
     "iopub.status.idle": "2023-01-27T14:40:26.378298Z",
     "shell.execute_reply": "2023-01-27T14:40:26.377305Z",
     "shell.execute_reply.started": "2023-01-27T14:40:26.358868Z"
    }
   },
   "outputs": [
    {
     "data": {
      "text/html": [
       "<div>\n",
       "<style scoped>\n",
       "    .dataframe tbody tr th:only-of-type {\n",
       "        vertical-align: middle;\n",
       "    }\n",
       "\n",
       "    .dataframe tbody tr th {\n",
       "        vertical-align: top;\n",
       "    }\n",
       "\n",
       "    .dataframe thead th {\n",
       "        text-align: right;\n",
       "    }\n",
       "</style>\n",
       "<table border=\"1\" class=\"dataframe\">\n",
       "  <thead>\n",
       "    <tr style=\"text-align: right;\">\n",
       "      <th></th>\n",
       "      <th>PassengerId</th>\n",
       "      <th>Survived</th>\n",
       "    </tr>\n",
       "  </thead>\n",
       "  <tbody>\n",
       "    <tr>\n",
       "      <th>0</th>\n",
       "      <td>892</td>\n",
       "      <td>0</td>\n",
       "    </tr>\n",
       "    <tr>\n",
       "      <th>1</th>\n",
       "      <td>893</td>\n",
       "      <td>0</td>\n",
       "    </tr>\n",
       "    <tr>\n",
       "      <th>2</th>\n",
       "      <td>894</td>\n",
       "      <td>0</td>\n",
       "    </tr>\n",
       "    <tr>\n",
       "      <th>3</th>\n",
       "      <td>895</td>\n",
       "      <td>0</td>\n",
       "    </tr>\n",
       "    <tr>\n",
       "      <th>4</th>\n",
       "      <td>896</td>\n",
       "      <td>1</td>\n",
       "    </tr>\n",
       "    <tr>\n",
       "      <th>5</th>\n",
       "      <td>897</td>\n",
       "      <td>0</td>\n",
       "    </tr>\n",
       "    <tr>\n",
       "      <th>6</th>\n",
       "      <td>898</td>\n",
       "      <td>1</td>\n",
       "    </tr>\n",
       "    <tr>\n",
       "      <th>7</th>\n",
       "      <td>899</td>\n",
       "      <td>0</td>\n",
       "    </tr>\n",
       "    <tr>\n",
       "      <th>8</th>\n",
       "      <td>900</td>\n",
       "      <td>1</td>\n",
       "    </tr>\n",
       "    <tr>\n",
       "      <th>9</th>\n",
       "      <td>901</td>\n",
       "      <td>0</td>\n",
       "    </tr>\n",
       "  </tbody>\n",
       "</table>\n",
       "</div>"
      ],
      "text/plain": [
       "   PassengerId  Survived\n",
       "0          892         0\n",
       "1          893         0\n",
       "2          894         0\n",
       "3          895         0\n",
       "4          896         1\n",
       "5          897         0\n",
       "6          898         1\n",
       "7          899         0\n",
       "8          900         1\n",
       "9          901         0"
      ]
     },
     "execution_count": 71,
     "metadata": {},
     "output_type": "execute_result"
    }
   ],
   "source": [
    "# Validating model with the testing dataset and storing as Kaggle Competition's Format\n",
    "reg = LogisticRegression(solver='liblinear', random_state=1)\n",
    "reg.fit(X_trainee,Y.values.ravel())\n",
    "y_LR = reg.predict(X_testiee)\n",
    "df_LR = pd.DataFrame()\n",
    "df_LR[\"PassengerId\"] = test2[\"PassengerId\"]\n",
    "df_LR[\"Survived\"] = y_LR\n",
    "df_LR.head(10)"
   ]
  },
  {
   "cell_type": "code",
   "execution_count": 72,
   "metadata": {
    "execution": {
     "iopub.execute_input": "2023-01-27T14:40:26.380061Z",
     "iopub.status.busy": "2023-01-27T14:40:26.379569Z",
     "iopub.status.idle": "2023-01-27T14:40:26.391819Z",
     "shell.execute_reply": "2023-01-27T14:40:26.390741Z",
     "shell.execute_reply.started": "2023-01-27T14:40:26.380029Z"
    }
   },
   "outputs": [
    {
     "name": "stdout",
     "output_type": "stream",
     "text": [
      "<class 'pandas.core.frame.DataFrame'>\n",
      "RangeIndex: 418 entries, 0 to 417\n",
      "Data columns (total 2 columns):\n",
      " #   Column       Non-Null Count  Dtype\n",
      "---  ------       --------------  -----\n",
      " 0   PassengerId  418 non-null    int64\n",
      " 1   Survived     418 non-null    int64\n",
      "dtypes: int64(2)\n",
      "memory usage: 6.7 KB\n"
     ]
    }
   ],
   "source": [
    "df_LR.info()"
   ]
  },
  {
   "cell_type": "code",
   "execution_count": 73,
   "metadata": {
    "execution": {
     "iopub.execute_input": "2023-01-27T14:40:26.393939Z",
     "iopub.status.busy": "2023-01-27T14:40:26.393558Z",
     "iopub.status.idle": "2023-01-27T14:40:26.400837Z",
     "shell.execute_reply": "2023-01-27T14:40:26.399640Z",
     "shell.execute_reply.started": "2023-01-27T14:40:26.393904Z"
    }
   },
   "outputs": [],
   "source": [
    "# Storing the Dataframe to be submitted into Kaggle competition\n",
    "df_LR.to_csv('submission.csv', index=False)"
   ]
  },
  {
   "cell_type": "code",
   "execution_count": null,
   "metadata": {},
   "outputs": [],
   "source": []
  }
 ],
 "metadata": {
  "kernelspec": {
   "display_name": "Python 3 (ipykernel)",
   "language": "python",
   "name": "python3"
  },
  "language_info": {
   "codemirror_mode": {
    "name": "ipython",
    "version": 3
   },
   "file_extension": ".py",
   "mimetype": "text/x-python",
   "name": "python",
   "nbconvert_exporter": "python",
   "pygments_lexer": "ipython3",
   "version": "3.8.15"
  }
 },
 "nbformat": 4,
 "nbformat_minor": 4
}
